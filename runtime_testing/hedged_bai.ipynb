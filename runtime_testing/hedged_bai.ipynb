{
 "cells": [
  {
   "cell_type": "code",
   "execution_count": 5,
   "id": "a5900a38",
   "metadata": {
    "scrolled": true
   },
   "outputs": [
    {
     "name": "stderr",
     "output_type": "stream",
     "text": [
      "100%|█████████████████████████████████████████| 100/100 [24:18<00:00, 14.59s/it]"
     ]
    },
    {
     "name": "stdout",
     "output_type": "stream",
     "text": [
      "2004.0\n",
      "0.0\n",
      "0.56\n",
      "14.500433225631713\n",
      "0.6529745869041194\n"
     ]
    },
    {
     "name": "stderr",
     "output_type": "stream",
     "text": [
      "\n"
     ]
    }
   ],
   "source": [
    "import numpy as np\n",
    "# from scipy.optimize import root_scalar\n",
    "# import sympy as sp\n",
    "import time\n",
    "from tqdm import tqdm\n",
    "import confseq as cs\n",
    "\n",
    "#nsims = 500 # stopping time testing\n",
    "nsims = 100 # runtime testing\n",
    "num_arm = 4\n",
    "total_time_array = np.zeros(nsims)\n",
    "\n",
    "def arm_selector(S_list, alpha):\n",
    "  n = len(S_list)\n",
    "  upp_bounds = np.ones(n)\n",
    "  mus = np.ones(n) * 0.5\n",
    "\n",
    "  for i in range(n):\n",
    "    mus[i] = np.mean(S_list[i])\n",
    "    t = len(S_list[i])\n",
    "    rad = np.sqrt(np.log(405.5 * n * t ** (1.1) / alpha * np.log(405.5 * n * t ** (1.1) / alpha) ) / (2*t) )\n",
    "    upp_bounds[i] = mus[i] + rad\n",
    "\n",
    "  arm_1 = np.argmax(mus)\n",
    "  upp_bounds[arm_1] = -1E10\n",
    "  arm_2 = np.argmax(upp_bounds)\n",
    "\n",
    "  return (arm_1, arm_2)\n",
    "\n",
    "\n",
    "\n",
    "# Confidence Intervals to test Against\n",
    "\n",
    "def conf_int_hedged(S, var_hat, alpha, npts=100):\n",
    "  '''\n",
    "  S is a number\n",
    "\n",
    "  '''\n",
    "  m = np.arange(npts) / npts + 1 / (2 * npts)\n",
    "  theta = 1 / 2\n",
    "  t = len(S)\n",
    "  lambda_val = np.sqrt(2 * np.log(2 / alpha) / (var_hat * (np.arange(t) + 1) * np.log(1 + (np.arange(t) + 1)))) \n",
    "\n",
    "  conf_int = []\n",
    "  for mean in m:\n",
    "    lambda_m_plus = np.minimum(lambda_val, 0.5 / mean)\n",
    "    lambda_m_minus = np.minimum(lambda_val, 0.5 / (1 - mean))\n",
    "    k_plus = theta * np.prod(1 + lambda_m_plus * (S - mean))\n",
    "    k_minus = (1 - theta) * np.prod( 1 - lambda_m_minus * (S - mean))\n",
    "\n",
    "    if max(k_plus, k_minus) < 1 / alpha:\n",
    "      conf_int.append(mean)\n",
    "\n",
    "  return (min(conf_int), max(conf_int))\n",
    "\n",
    "\n",
    "# termination condition for hedge only\n",
    "def term_condition(S_list, var_hats, alpha, npts):\n",
    "  term = 0\n",
    "  best = -1\n",
    "  upp_bounds = np.ones(num_arm)\n",
    "  lower_bounds = np.zeros(num_arm)\n",
    "\n",
    "  for i in range(num_arm):\n",
    "    S = S_list[i]\n",
    "    var_hat = var_hats[i]\n",
    "\n",
    "    bounds = conf_int_hedged(S, var_hat, alpha/num_arm, npts)\n",
    "    upp_bounds[i] = bounds[1]\n",
    "    lower_bounds[i] = bounds[0]\n",
    "\n",
    "  best_low_bounds = np.argmax(lower_bounds)\n",
    "  if (lower_bounds[best_low_bounds] >= max(upp_bounds[np.arange(num_arm) != best_low_bounds])):\n",
    "    term = 1\n",
    "    best = best_low_bounds\n",
    "\n",
    "  return (term, best)\n",
    "\n",
    "\n",
    "horizon_len = 1000\n",
    "\n",
    "mu = [0.29, 0.43, 0.57, 0.71]\n",
    "# mu = np.arange(4) + 1\n",
    "# mu = (0.71 - 0.14*(mu - 1))/(0.29 + 0.14*(mu - 1))\n",
    "alpha = 0.05\n",
    "\n",
    "# simulation for best arm identification using our approach\n",
    "best_arm_list = []\n",
    "stop_times = []\n",
    "\n",
    "\n",
    "for i in tqdm(range(nsims)):\n",
    "  np.random.seed(i)\n",
    "  # S_list = [[np.random.beta(1, p, 1)] for p in mu]\n",
    "  S_list = [[np.random.binomial(1, p, 1)] for p in mu]\n",
    "  t = num_arm\n",
    "  var_hats = [[0.25]] * num_arm\n",
    "  term = 0\n",
    "  best = -1\n",
    "\n",
    "  for j in range(horizon_len):\n",
    "  #while(term==0):\n",
    "    which_arm = arm_selector(S_list, alpha)\n",
    "    h = which_arm[0]\n",
    "    l = which_arm[1]\n",
    "\n",
    "    var_hats[h] = np.append(var_hats[h], (1/4 + sum( (S_list[h] - np.mean(S_list[h])) ** 2 ) )/ (len(S_list[h]) + 1))\n",
    "    var_hats[l] = np.append(var_hats[l], (1/4 + sum( (S_list[l] - np.mean(S_list[l])) ** 2 ) )/ (len(S_list[l]) + 1))\n",
    "\n",
    "    # S_list[h] = np.append(S_list[h], np.random.beta(1, mu[h], 1))\n",
    "    S_list[h] = np.append(S_list[h], np.random.binomial(1, mu[h], 1))\n",
    "    S_list[l] = np.append(S_list[l], np.random.binomial(1, mu[l], 1))\n",
    "\n",
    "    # S_list[l] = np.append(S_list[l], np.random.beta(1, mu[l], 1))\n",
    "\n",
    "    start_time = time.time()\n",
    "    terms = term_condition(S_list, var_hats, alpha, npts = 400) # change npts here to change fidelity\n",
    "    end_time = time.time()\n",
    "\n",
    "    total_time_array[i] += end_time - start_time\n",
    "\n",
    "    term = terms[0]\n",
    "    best = terms[1]\n",
    "\n",
    "    t += 2\n",
    "\n",
    "  best_arm_list.append(best)\n",
    "  stop_times.append(t)\n",
    "\n",
    "\n",
    "print(np.mean(stop_times))\n",
    "print(np.std(stop_times))\n",
    "print(np.mean(np.equal(best_arm_list,3)))\n",
    "print(np.mean(total_time_array))\n",
    "print(np.std(total_time_array))\n",
    "\n",
    "\n"
   ]
  },
  {
   "cell_type": "code",
   "execution_count": 6,
   "id": "e4d1ed99",
   "metadata": {
    "scrolled": true,
    "tags": []
   },
   "outputs": [
    {
     "name": "stdout",
     "output_type": "stream",
     "text": [
      "14.500433225631713\n",
      "0.6529745869041194\n"
     ]
    }
   ],
   "source": [
    "print(np.mean(total_time_array))\n",
    "print(np.std(total_time_array))"
   ]
  }
 ],
 "metadata": {
  "kernelspec": {
   "display_name": "Python 3 (ipykernel)",
   "language": "python",
   "name": "python3"
  },
  "language_info": {
   "codemirror_mode": {
    "name": "ipython",
    "version": 3
   },
   "file_extension": ".py",
   "mimetype": "text/x-python",
   "name": "python",
   "nbconvert_exporter": "python",
   "pygments_lexer": "ipython3",
   "version": "3.9.18"
  }
 },
 "nbformat": 4,
 "nbformat_minor": 5
}
