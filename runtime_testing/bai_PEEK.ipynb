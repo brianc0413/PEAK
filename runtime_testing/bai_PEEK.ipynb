{
 "cells": [
  {
   "cell_type": "code",
   "execution_count": 73,
   "metadata": {
    "colab": {
     "base_uri": "https://localhost:8080/"
    },
    "id": "JklJoo08sVCU",
    "outputId": "d28e5339-8f08-4d51-ef8d-21095463b168"
   },
   "outputs": [
    {
     "name": "stderr",
     "output_type": "stream",
     "text": [
      "  1%|          | 1/100 [00:03<05:25,  3.29s/it]"
     ]
    },
    {
     "name": "stdout",
     "output_type": "stream",
     "text": [
      "1702\n"
     ]
    },
    {
     "name": "stderr",
     "output_type": "stream",
     "text": [
      "/var/folders/b0/dg8r3zxn7d3g6xzk1gk57mrc0000gn/T/ipykernel_46235/393486720.py:166: RuntimeWarning: overflow encountered in scalar multiply\n",
      "  coeffs(x, S_list, mus, fourth_best) * sum((2*x-np.asarray(mus[fourth_best])-np.asarray(S_list[fourth_best]))/(0.26 + (np.asarray(S_list[fourth_best])-x)*(np.asarray(mus[fourth_best])-x)))\n",
      "/var/folders/b0/dg8r3zxn7d3g6xzk1gk57mrc0000gn/T/ipykernel_46235/393486720.py:132: RuntimeWarning: overflow encountered in scalar multiply\n",
      "  return coeffs(x, S_list, mus, best_arm) *  sum((2*x-np.asarray(mus[best_arm])-np.asarray(S_list[best_arm]))/(0.26 + (np.asarray(S_list[best_arm])-x)*(np.asarray(mus[best_arm])-x))) + \\\n",
      "/var/folders/b0/dg8r3zxn7d3g6xzk1gk57mrc0000gn/T/ipykernel_46235/393486720.py:147: RuntimeWarning: overflow encountered in scalar multiply\n",
      "  return coeffs(x, S_list, mus, best_arm) * sum((2*x-np.asarray(mus[best_arm])-np.asarray(S_list[best_arm]))/(0.26 + (np.asarray(S_list[best_arm])-x)*(np.asarray(mus[best_arm])-x))) + \\\n",
      "/var/folders/b0/dg8r3zxn7d3g6xzk1gk57mrc0000gn/T/ipykernel_46235/393486720.py:163: RuntimeWarning: overflow encountered in scalar multiply\n",
      "  return coeffs(x, S_list, mus, best_arm) * sum((2*x-np.asarray(mus[best_arm])-np.asarray(S_list[best_arm]))/(0.26 + (np.asarray(S_list[best_arm])-x) * (np.asarray(mus[best_arm])-x))) + \\\n",
      "  2%|▏         | 2/100 [00:09<08:19,  5.10s/it]"
     ]
    },
    {
     "name": "stdout",
     "output_type": "stream",
     "text": [
      "2558\n"
     ]
    },
    {
     "name": "stderr",
     "output_type": "stream",
     "text": [
      "  3%|▎         | 3/100 [00:13<07:23,  4.57s/it]"
     ]
    },
    {
     "name": "stdout",
     "output_type": "stream",
     "text": [
      "1948\n"
     ]
    },
    {
     "name": "stderr",
     "output_type": "stream",
     "text": [
      "  4%|▍         | 4/100 [00:14<05:17,  3.31s/it]"
     ]
    },
    {
     "name": "stdout",
     "output_type": "stream",
     "text": [
      "960\n"
     ]
    },
    {
     "name": "stderr",
     "output_type": "stream",
     "text": [
      "  5%|▌         | 5/100 [00:16<04:10,  2.64s/it]"
     ]
    },
    {
     "name": "stdout",
     "output_type": "stream",
     "text": [
      "1016\n"
     ]
    },
    {
     "name": "stderr",
     "output_type": "stream",
     "text": [
      "  6%|▌         | 6/100 [00:17<03:21,  2.15s/it]"
     ]
    },
    {
     "name": "stdout",
     "output_type": "stream",
     "text": [
      "904\n"
     ]
    },
    {
     "name": "stderr",
     "output_type": "stream",
     "text": [
      "  7%|▋         | 7/100 [00:20<03:34,  2.31s/it]"
     ]
    },
    {
     "name": "stdout",
     "output_type": "stream",
     "text": [
      "1538\n"
     ]
    },
    {
     "name": "stderr",
     "output_type": "stream",
     "text": [
      "  8%|▊         | 8/100 [00:21<03:05,  2.02s/it]"
     ]
    },
    {
     "name": "stdout",
     "output_type": "stream",
     "text": [
      "1024\n"
     ]
    },
    {
     "name": "stderr",
     "output_type": "stream",
     "text": [
      "  9%|▉         | 9/100 [00:22<02:17,  1.51s/it]"
     ]
    },
    {
     "name": "stdout",
     "output_type": "stream",
     "text": [
      "402\n"
     ]
    },
    {
     "name": "stderr",
     "output_type": "stream",
     "text": [
      " 10%|█         | 10/100 [00:26<03:43,  2.48s/it]"
     ]
    },
    {
     "name": "stdout",
     "output_type": "stream",
     "text": [
      "2176\n"
     ]
    },
    {
     "name": "stderr",
     "output_type": "stream",
     "text": [
      " 11%|█         | 11/100 [00:27<03:05,  2.08s/it]"
     ]
    },
    {
     "name": "stdout",
     "output_type": "stream",
     "text": [
      "898\n"
     ]
    },
    {
     "name": "stderr",
     "output_type": "stream",
     "text": [
      " 12%|█▏        | 12/100 [00:30<03:24,  2.33s/it]"
     ]
    },
    {
     "name": "stdout",
     "output_type": "stream",
     "text": [
      "1614\n"
     ]
    },
    {
     "name": "stderr",
     "output_type": "stream",
     "text": [
      " 13%|█▎        | 13/100 [00:32<03:02,  2.10s/it]"
     ]
    },
    {
     "name": "stdout",
     "output_type": "stream",
     "text": [
      "1070\n"
     ]
    },
    {
     "name": "stderr",
     "output_type": "stream",
     "text": [
      " 14%|█▍        | 14/100 [00:34<03:14,  2.26s/it]"
     ]
    },
    {
     "name": "stdout",
     "output_type": "stream",
     "text": [
      "1458\n"
     ]
    },
    {
     "name": "stderr",
     "output_type": "stream",
     "text": [
      " 15%|█▌        | 15/100 [00:35<02:33,  1.81s/it]"
     ]
    },
    {
     "name": "stdout",
     "output_type": "stream",
     "text": [
      "678\n"
     ]
    },
    {
     "name": "stderr",
     "output_type": "stream",
     "text": [
      " 16%|█▌        | 16/100 [00:37<02:25,  1.73s/it]"
     ]
    },
    {
     "name": "stdout",
     "output_type": "stream",
     "text": [
      "1088\n"
     ]
    },
    {
     "name": "stderr",
     "output_type": "stream",
     "text": [
      "/var/folders/b0/dg8r3zxn7d3g6xzk1gk57mrc0000gn/T/ipykernel_46235/393486720.py:133: RuntimeWarning: overflow encountered in scalar multiply\n",
      "  coeffs(x, S_list, mus, second_best) * sum((2*x-np.asarray(mus[second_best])-np.asarray(S_list[second_best]))/(0.26 + (np.asarray(S_list[second_best])-x)*(np.asarray(mus[second_best])-x)))\n",
      "/var/folders/b0/dg8r3zxn7d3g6xzk1gk57mrc0000gn/T/ipykernel_46235/393486720.py:148: RuntimeWarning: overflow encountered in scalar multiply\n",
      "  coeffs(x, S_list, mus, second_best) * (x < min_values[second_best]) *  sum((2*x-np.asarray(mus[second_best])-np.asarray(S_list[second_best]))/(0.26 + (np.asarray(S_list[second_best])-x)*(np.asarray(mus[second_best])-x))) + \\\n",
      "/var/folders/b0/dg8r3zxn7d3g6xzk1gk57mrc0000gn/T/ipykernel_46235/393486720.py:164: RuntimeWarning: overflow encountered in scalar multiply\n",
      "  coeffs(x, S_list, mus, second_best) * (x < min_values[second_best]) *  sum((2*x-np.asarray(mus[second_best])-np.asarray(S_list[second_best]))/(0.26 + (np.asarray(S_list[second_best])-x)*(np.asarray(mus[second_best])-x))) + \\\n",
      " 17%|█▋        | 17/100 [00:45<05:01,  3.63s/it]"
     ]
    },
    {
     "name": "stdout",
     "output_type": "stream",
     "text": [
      "2970\n"
     ]
    },
    {
     "name": "stderr",
     "output_type": "stream",
     "text": [
      " 18%|█▊        | 18/100 [00:46<03:47,  2.77s/it]"
     ]
    },
    {
     "name": "stdout",
     "output_type": "stream",
     "text": [
      "670\n"
     ]
    },
    {
     "name": "stderr",
     "output_type": "stream",
     "text": [
      " 19%|█▉        | 19/100 [00:47<03:04,  2.28s/it]"
     ]
    },
    {
     "name": "stdout",
     "output_type": "stream",
     "text": [
      "856\n"
     ]
    },
    {
     "name": "stderr",
     "output_type": "stream",
     "text": [
      " 20%|██        | 20/100 [00:48<02:49,  2.11s/it]"
     ]
    },
    {
     "name": "stdout",
     "output_type": "stream",
     "text": [
      "1134\n"
     ]
    },
    {
     "name": "stderr",
     "output_type": "stream",
     "text": [
      " 21%|██        | 21/100 [00:50<02:39,  2.01s/it]"
     ]
    },
    {
     "name": "stdout",
     "output_type": "stream",
     "text": [
      "1192\n"
     ]
    },
    {
     "name": "stderr",
     "output_type": "stream",
     "text": [
      " 22%|██▏       | 22/100 [00:52<02:36,  2.01s/it]"
     ]
    },
    {
     "name": "stdout",
     "output_type": "stream",
     "text": [
      "1340\n"
     ]
    },
    {
     "name": "stderr",
     "output_type": "stream",
     "text": [
      " 23%|██▎       | 23/100 [01:03<05:48,  4.52s/it]"
     ]
    },
    {
     "name": "stdout",
     "output_type": "stream",
     "text": [
      "3570\n"
     ]
    },
    {
     "name": "stderr",
     "output_type": "stream",
     "text": [
      " 24%|██▍       | 24/100 [01:06<05:27,  4.30s/it]"
     ]
    },
    {
     "name": "stdout",
     "output_type": "stream",
     "text": [
      "1924\n"
     ]
    },
    {
     "name": "stderr",
     "output_type": "stream",
     "text": [
      " 25%|██▌       | 25/100 [01:07<04:06,  3.28s/it]"
     ]
    },
    {
     "name": "stdout",
     "output_type": "stream",
     "text": [
      "760\n"
     ]
    },
    {
     "name": "stderr",
     "output_type": "stream",
     "text": [
      " 26%|██▌       | 26/100 [01:11<04:04,  3.30s/it]"
     ]
    },
    {
     "name": "stdout",
     "output_type": "stream",
     "text": [
      "1780\n"
     ]
    },
    {
     "name": "stderr",
     "output_type": "stream",
     "text": [
      " 27%|██▋       | 27/100 [01:12<03:25,  2.81s/it]"
     ]
    },
    {
     "name": "stdout",
     "output_type": "stream",
     "text": [
      "1138\n"
     ]
    },
    {
     "name": "stderr",
     "output_type": "stream",
     "text": [
      " 28%|██▊       | 28/100 [01:14<02:58,  2.47s/it]"
     ]
    },
    {
     "name": "stdout",
     "output_type": "stream",
     "text": [
      "1154\n"
     ]
    },
    {
     "name": "stderr",
     "output_type": "stream",
     "text": [
      " 29%|██▉       | 29/100 [01:19<03:46,  3.18s/it]"
     ]
    },
    {
     "name": "stdout",
     "output_type": "stream",
     "text": [
      "2184\n"
     ]
    },
    {
     "name": "stderr",
     "output_type": "stream",
     "text": [
      " 30%|███       | 30/100 [01:20<03:04,  2.63s/it]"
     ]
    },
    {
     "name": "stdout",
     "output_type": "stream",
     "text": [
      "988\n"
     ]
    },
    {
     "name": "stderr",
     "output_type": "stream",
     "text": [
      " 31%|███       | 31/100 [01:22<02:44,  2.38s/it]"
     ]
    },
    {
     "name": "stdout",
     "output_type": "stream",
     "text": [
      "1168\n"
     ]
    },
    {
     "name": "stderr",
     "output_type": "stream",
     "text": [
      " 32%|███▏      | 32/100 [01:30<04:30,  3.98s/it]"
     ]
    },
    {
     "name": "stdout",
     "output_type": "stream",
     "text": [
      "2938\n"
     ]
    },
    {
     "name": "stderr",
     "output_type": "stream",
     "text": [
      " 33%|███▎      | 33/100 [01:32<04:02,  3.62s/it]"
     ]
    },
    {
     "name": "stdout",
     "output_type": "stream",
     "text": [
      "1600\n"
     ]
    },
    {
     "name": "stderr",
     "output_type": "stream",
     "text": [
      " 34%|███▍      | 34/100 [01:34<03:25,  3.12s/it]"
     ]
    },
    {
     "name": "stdout",
     "output_type": "stream",
     "text": [
      "1250\n"
     ]
    },
    {
     "name": "stderr",
     "output_type": "stream",
     "text": [
      " 35%|███▌      | 35/100 [01:43<05:18,  4.90s/it]"
     ]
    },
    {
     "name": "stdout",
     "output_type": "stream",
     "text": [
      "3252\n"
     ]
    },
    {
     "name": "stderr",
     "output_type": "stream",
     "text": [
      " 36%|███▌      | 36/100 [01:47<04:46,  4.47s/it]"
     ]
    },
    {
     "name": "stdout",
     "output_type": "stream",
     "text": [
      "1846\n"
     ]
    },
    {
     "name": "stderr",
     "output_type": "stream",
     "text": [
      " 37%|███▋      | 37/100 [01:48<03:31,  3.35s/it]"
     ]
    },
    {
     "name": "stdout",
     "output_type": "stream",
     "text": [
      "660\n"
     ]
    },
    {
     "name": "stderr",
     "output_type": "stream",
     "text": [
      " 38%|███▊      | 38/100 [01:51<03:21,  3.26s/it]"
     ]
    },
    {
     "name": "stdout",
     "output_type": "stream",
     "text": [
      "1636\n"
     ]
    },
    {
     "name": "stderr",
     "output_type": "stream",
     "text": [
      " 39%|███▉      | 39/100 [01:52<02:43,  2.67s/it]"
     ]
    },
    {
     "name": "stdout",
     "output_type": "stream",
     "text": [
      "982\n"
     ]
    },
    {
     "name": "stderr",
     "output_type": "stream",
     "text": [
      " 40%|████      | 40/100 [01:53<02:07,  2.12s/it]"
     ]
    },
    {
     "name": "stdout",
     "output_type": "stream",
     "text": [
      "696\n"
     ]
    },
    {
     "name": "stderr",
     "output_type": "stream",
     "text": [
      " 41%|████      | 41/100 [01:56<02:20,  2.38s/it]"
     ]
    },
    {
     "name": "stdout",
     "output_type": "stream",
     "text": [
      "1734\n"
     ]
    },
    {
     "name": "stderr",
     "output_type": "stream",
     "text": [
      " 42%|████▏     | 42/100 [01:58<02:05,  2.17s/it]"
     ]
    },
    {
     "name": "stdout",
     "output_type": "stream",
     "text": [
      "1128\n"
     ]
    },
    {
     "name": "stderr",
     "output_type": "stream",
     "text": [
      " 43%|████▎     | 43/100 [02:00<02:02,  2.15s/it]"
     ]
    },
    {
     "name": "stdout",
     "output_type": "stream",
     "text": [
      "1308\n"
     ]
    },
    {
     "name": "stderr",
     "output_type": "stream",
     "text": [
      " 44%|████▍     | 44/100 [02:02<02:11,  2.35s/it]"
     ]
    },
    {
     "name": "stdout",
     "output_type": "stream",
     "text": [
      "1584\n"
     ]
    },
    {
     "name": "stderr",
     "output_type": "stream",
     "text": [
      " 45%|████▌     | 45/100 [02:05<02:05,  2.28s/it]"
     ]
    },
    {
     "name": "stdout",
     "output_type": "stream",
     "text": [
      "1282\n"
     ]
    },
    {
     "name": "stderr",
     "output_type": "stream",
     "text": [
      " 46%|████▌     | 46/100 [02:08<02:24,  2.67s/it]"
     ]
    },
    {
     "name": "stdout",
     "output_type": "stream",
     "text": [
      "1860\n"
     ]
    },
    {
     "name": "stderr",
     "output_type": "stream",
     "text": [
      " 47%|████▋     | 47/100 [02:10<02:13,  2.52s/it]"
     ]
    },
    {
     "name": "stdout",
     "output_type": "stream",
     "text": [
      "1318\n"
     ]
    },
    {
     "name": "stderr",
     "output_type": "stream",
     "text": [
      " 48%|████▊     | 48/100 [02:12<01:53,  2.17s/it]"
     ]
    },
    {
     "name": "stdout",
     "output_type": "stream",
     "text": [
      "972\n"
     ]
    },
    {
     "name": "stderr",
     "output_type": "stream",
     "text": [
      " 49%|████▉     | 49/100 [02:15<02:00,  2.37s/it]"
     ]
    },
    {
     "name": "stdout",
     "output_type": "stream",
     "text": [
      "1588\n"
     ]
    },
    {
     "name": "stderr",
     "output_type": "stream",
     "text": [
      " 50%|█████     | 50/100 [02:17<01:57,  2.35s/it]"
     ]
    },
    {
     "name": "stdout",
     "output_type": "stream",
     "text": [
      "1394\n"
     ]
    },
    {
     "name": "stderr",
     "output_type": "stream",
     "text": [
      " 51%|█████     | 51/100 [02:22<02:42,  3.31s/it]"
     ]
    },
    {
     "name": "stdout",
     "output_type": "stream",
     "text": [
      "2396\n"
     ]
    },
    {
     "name": "stderr",
     "output_type": "stream",
     "text": [
      " 52%|█████▏    | 52/100 [02:23<02:05,  2.61s/it]"
     ]
    },
    {
     "name": "stdout",
     "output_type": "stream",
     "text": [
      "772\n"
     ]
    },
    {
     "name": "stderr",
     "output_type": "stream",
     "text": [
      " 53%|█████▎    | 53/100 [02:25<01:47,  2.29s/it]"
     ]
    },
    {
     "name": "stdout",
     "output_type": "stream",
     "text": [
      "1034\n"
     ]
    },
    {
     "name": "stderr",
     "output_type": "stream",
     "text": [
      " 54%|█████▍    | 54/100 [02:27<01:37,  2.11s/it]"
     ]
    },
    {
     "name": "stdout",
     "output_type": "stream",
     "text": [
      "1100\n"
     ]
    },
    {
     "name": "stderr",
     "output_type": "stream",
     "text": [
      " 55%|█████▌    | 55/100 [02:29<01:38,  2.19s/it]"
     ]
    },
    {
     "name": "stdout",
     "output_type": "stream",
     "text": [
      "1356\n"
     ]
    },
    {
     "name": "stderr",
     "output_type": "stream",
     "text": [
      " 57%|█████▋    | 57/100 [02:32<01:12,  1.68s/it]"
     ]
    },
    {
     "name": "stdout",
     "output_type": "stream",
     "text": [
      "1480\n",
      "230\n"
     ]
    },
    {
     "name": "stderr",
     "output_type": "stream",
     "text": [
      " 58%|█████▊    | 58/100 [02:36<01:42,  2.44s/it]"
     ]
    },
    {
     "name": "stdout",
     "output_type": "stream",
     "text": [
      "2056\n"
     ]
    },
    {
     "name": "stderr",
     "output_type": "stream",
     "text": [
      " 59%|█████▉    | 59/100 [02:38<01:35,  2.33s/it]"
     ]
    },
    {
     "name": "stdout",
     "output_type": "stream",
     "text": [
      "1260\n"
     ]
    },
    {
     "name": "stderr",
     "output_type": "stream",
     "text": [
      " 60%|██████    | 60/100 [02:40<01:26,  2.17s/it]"
     ]
    },
    {
     "name": "stdout",
     "output_type": "stream",
     "text": [
      "1210\n"
     ]
    },
    {
     "name": "stderr",
     "output_type": "stream",
     "text": [
      " 61%|██████    | 61/100 [02:41<01:09,  1.78s/it]"
     ]
    },
    {
     "name": "stdout",
     "output_type": "stream",
     "text": [
      "738\n"
     ]
    },
    {
     "name": "stderr",
     "output_type": "stream",
     "text": [
      " 62%|██████▏   | 62/100 [02:44<01:20,  2.12s/it]"
     ]
    },
    {
     "name": "stdout",
     "output_type": "stream",
     "text": [
      "1596\n"
     ]
    },
    {
     "name": "stderr",
     "output_type": "stream",
     "text": [
      " 63%|██████▎   | 63/100 [02:45<01:12,  1.96s/it]"
     ]
    },
    {
     "name": "stdout",
     "output_type": "stream",
     "text": [
      "1074\n"
     ]
    },
    {
     "name": "stderr",
     "output_type": "stream",
     "text": [
      " 64%|██████▍   | 64/100 [02:47<01:13,  2.04s/it]"
     ]
    },
    {
     "name": "stdout",
     "output_type": "stream",
     "text": [
      "1338\n"
     ]
    },
    {
     "name": "stderr",
     "output_type": "stream",
     "text": [
      " 65%|██████▌   | 65/100 [02:48<00:54,  1.57s/it]"
     ]
    },
    {
     "name": "stdout",
     "output_type": "stream",
     "text": [
      "448\n"
     ]
    },
    {
     "name": "stderr",
     "output_type": "stream",
     "text": [
      " 66%|██████▌   | 66/100 [02:53<01:31,  2.70s/it]"
     ]
    },
    {
     "name": "stdout",
     "output_type": "stream",
     "text": [
      "2320\n"
     ]
    },
    {
     "name": "stderr",
     "output_type": "stream",
     "text": [
      "/var/folders/b0/dg8r3zxn7d3g6xzk1gk57mrc0000gn/T/ipykernel_46235/393486720.py:149: RuntimeWarning: overflow encountered in scalar multiply\n",
      "  coeffs(x, S_list, mus, third_best) * sum((2*x-np.asarray(mus[third_best])-np.asarray(S_list[third_best]))/(0.26 + (np.asarray(S_list[third_best])-x)*(np.asarray(mus[third_best])-x)))\n",
      "/var/folders/b0/dg8r3zxn7d3g6xzk1gk57mrc0000gn/T/ipykernel_46235/393486720.py:165: RuntimeWarning: invalid value encountered in scalar multiply\n",
      "  coeffs(x, S_list, mus, third_best) * (x < min_values[third_best]) * sum((2*x-np.asarray(mus[third_best])-np.asarray(S_list[third_best]))/(0.26 + (np.asarray(S_list[third_best])-x)*(np.asarray(mus[third_best])-x))) + \\\n",
      " 67%|██████▋   | 67/100 [02:58<01:52,  3.41s/it]"
     ]
    },
    {
     "name": "stdout",
     "output_type": "stream",
     "text": [
      "2386\n"
     ]
    },
    {
     "name": "stderr",
     "output_type": "stream",
     "text": [
      " 68%|██████▊   | 68/100 [03:00<01:29,  2.81s/it]"
     ]
    },
    {
     "name": "stdout",
     "output_type": "stream",
     "text": [
      "992\n"
     ]
    },
    {
     "name": "stderr",
     "output_type": "stream",
     "text": [
      " 69%|██████▉   | 69/100 [03:01<01:10,  2.29s/it]"
     ]
    },
    {
     "name": "stdout",
     "output_type": "stream",
     "text": [
      "822\n"
     ]
    },
    {
     "name": "stderr",
     "output_type": "stream",
     "text": [
      " 70%|███████   | 70/100 [03:03<01:10,  2.36s/it]"
     ]
    },
    {
     "name": "stdout",
     "output_type": "stream",
     "text": [
      "1480\n"
     ]
    },
    {
     "name": "stderr",
     "output_type": "stream",
     "text": [
      " 71%|███████   | 71/100 [03:05<01:03,  2.18s/it]"
     ]
    },
    {
     "name": "stdout",
     "output_type": "stream",
     "text": [
      "1146\n"
     ]
    },
    {
     "name": "stderr",
     "output_type": "stream",
     "text": [
      " 72%|███████▏  | 72/100 [03:10<01:23,  2.97s/it]"
     ]
    },
    {
     "name": "stdout",
     "output_type": "stream",
     "text": [
      "2172\n"
     ]
    },
    {
     "name": "stderr",
     "output_type": "stream",
     "text": [
      " 73%|███████▎  | 73/100 [03:18<01:57,  4.36s/it]"
     ]
    },
    {
     "name": "stdout",
     "output_type": "stream",
     "text": [
      "2880\n"
     ]
    },
    {
     "name": "stderr",
     "output_type": "stream",
     "text": [
      " 74%|███████▍  | 74/100 [03:22<01:51,  4.29s/it]"
     ]
    },
    {
     "name": "stdout",
     "output_type": "stream",
     "text": [
      "2002\n"
     ]
    },
    {
     "name": "stderr",
     "output_type": "stream",
     "text": [
      " 75%|███████▌  | 75/100 [03:24<01:34,  3.76s/it]"
     ]
    },
    {
     "name": "stdout",
     "output_type": "stream",
     "text": [
      "1474\n"
     ]
    },
    {
     "name": "stderr",
     "output_type": "stream",
     "text": [
      " 76%|███████▌  | 76/100 [03:26<01:19,  3.32s/it]"
     ]
    },
    {
     "name": "stdout",
     "output_type": "stream",
     "text": [
      "1388\n"
     ]
    },
    {
     "name": "stderr",
     "output_type": "stream",
     "text": [
      " 77%|███████▋  | 77/100 [03:32<01:31,  3.99s/it]"
     ]
    },
    {
     "name": "stdout",
     "output_type": "stream",
     "text": [
      "2362\n"
     ]
    },
    {
     "name": "stderr",
     "output_type": "stream",
     "text": [
      " 78%|███████▊  | 78/100 [03:34<01:14,  3.39s/it]"
     ]
    },
    {
     "name": "stdout",
     "output_type": "stream",
     "text": [
      "1254\n"
     ]
    },
    {
     "name": "stderr",
     "output_type": "stream",
     "text": [
      " 79%|███████▉  | 79/100 [03:40<01:30,  4.29s/it]"
     ]
    },
    {
     "name": "stdout",
     "output_type": "stream",
     "text": [
      "2594\n"
     ]
    },
    {
     "name": "stderr",
     "output_type": "stream",
     "text": [
      " 80%|████████  | 80/100 [03:41<01:03,  3.15s/it]"
     ]
    },
    {
     "name": "stdout",
     "output_type": "stream",
     "text": [
      "486\n"
     ]
    },
    {
     "name": "stderr",
     "output_type": "stream",
     "text": [
      " 81%|████████  | 81/100 [03:42<00:48,  2.57s/it]"
     ]
    },
    {
     "name": "stdout",
     "output_type": "stream",
     "text": [
      "896\n"
     ]
    },
    {
     "name": "stderr",
     "output_type": "stream",
     "text": [
      " 82%|████████▏ | 82/100 [03:43<00:36,  2.04s/it]"
     ]
    },
    {
     "name": "stdout",
     "output_type": "stream",
     "text": [
      "710\n"
     ]
    },
    {
     "name": "stderr",
     "output_type": "stream",
     "text": [
      " 83%|████████▎ | 83/100 [03:44<00:30,  1.82s/it]"
     ]
    },
    {
     "name": "stdout",
     "output_type": "stream",
     "text": [
      "952\n"
     ]
    },
    {
     "name": "stderr",
     "output_type": "stream",
     "text": [
      " 84%|████████▍ | 84/100 [03:46<00:27,  1.72s/it]"
     ]
    },
    {
     "name": "stdout",
     "output_type": "stream",
     "text": [
      "1066\n"
     ]
    },
    {
     "name": "stderr",
     "output_type": "stream",
     "text": [
      " 85%|████████▌ | 85/100 [03:49<00:32,  2.16s/it]"
     ]
    },
    {
     "name": "stdout",
     "output_type": "stream",
     "text": [
      "1704\n"
     ]
    },
    {
     "name": "stderr",
     "output_type": "stream",
     "text": [
      " 86%|████████▌ | 86/100 [03:54<00:42,  3.01s/it]"
     ]
    },
    {
     "name": "stdout",
     "output_type": "stream",
     "text": [
      "2264\n"
     ]
    },
    {
     "name": "stderr",
     "output_type": "stream",
     "text": [
      " 87%|████████▋ | 87/100 [03:56<00:34,  2.62s/it]"
     ]
    },
    {
     "name": "stdout",
     "output_type": "stream",
     "text": [
      "1118\n"
     ]
    },
    {
     "name": "stderr",
     "output_type": "stream",
     "text": [
      " 88%|████████▊ | 88/100 [03:57<00:28,  2.40s/it]"
     ]
    },
    {
     "name": "stdout",
     "output_type": "stream",
     "text": [
      "1212\n"
     ]
    },
    {
     "name": "stderr",
     "output_type": "stream",
     "text": [
      " 89%|████████▉ | 89/100 [03:59<00:22,  2.03s/it]"
     ]
    },
    {
     "name": "stdout",
     "output_type": "stream",
     "text": [
      "890\n"
     ]
    },
    {
     "name": "stderr",
     "output_type": "stream",
     "text": [
      " 90%|█████████ | 90/100 [04:00<00:16,  1.69s/it]"
     ]
    },
    {
     "name": "stdout",
     "output_type": "stream",
     "text": [
      "732\n"
     ]
    },
    {
     "name": "stderr",
     "output_type": "stream",
     "text": [
      " 91%|█████████ | 91/100 [04:02<00:16,  1.85s/it]"
     ]
    },
    {
     "name": "stdout",
     "output_type": "stream",
     "text": [
      "1358\n"
     ]
    },
    {
     "name": "stderr",
     "output_type": "stream",
     "text": [
      " 92%|█████████▏| 92/100 [04:04<00:15,  1.94s/it]"
     ]
    },
    {
     "name": "stdout",
     "output_type": "stream",
     "text": [
      "1320\n"
     ]
    },
    {
     "name": "stderr",
     "output_type": "stream",
     "text": [
      " 93%|█████████▎| 93/100 [04:07<00:15,  2.19s/it]"
     ]
    },
    {
     "name": "stdout",
     "output_type": "stream",
     "text": [
      "1532\n"
     ]
    },
    {
     "name": "stderr",
     "output_type": "stream",
     "text": [
      " 94%|█████████▍| 94/100 [04:08<00:11,  1.84s/it]"
     ]
    },
    {
     "name": "stdout",
     "output_type": "stream",
     "text": [
      "840\n"
     ]
    },
    {
     "name": "stderr",
     "output_type": "stream",
     "text": [
      " 95%|█████████▌| 95/100 [04:10<00:09,  1.85s/it]"
     ]
    },
    {
     "name": "stdout",
     "output_type": "stream",
     "text": [
      "1262\n"
     ]
    },
    {
     "name": "stderr",
     "output_type": "stream",
     "text": [
      " 96%|█████████▌| 96/100 [04:14<00:10,  2.68s/it]"
     ]
    },
    {
     "name": "stdout",
     "output_type": "stream",
     "text": [
      "2128\n"
     ]
    },
    {
     "name": "stderr",
     "output_type": "stream",
     "text": [
      " 97%|█████████▋| 97/100 [04:16<00:06,  2.30s/it]"
     ]
    },
    {
     "name": "stdout",
     "output_type": "stream",
     "text": [
      "1064\n"
     ]
    },
    {
     "name": "stderr",
     "output_type": "stream",
     "text": [
      " 98%|█████████▊| 98/100 [04:20<00:05,  2.86s/it]"
     ]
    },
    {
     "name": "stdout",
     "output_type": "stream",
     "text": [
      "2042\n"
     ]
    },
    {
     "name": "stderr",
     "output_type": "stream",
     "text": [
      " 99%|█████████▉| 99/100 [04:29<00:04,  4.70s/it]"
     ]
    },
    {
     "name": "stdout",
     "output_type": "stream",
     "text": [
      "3200\n"
     ]
    },
    {
     "name": "stderr",
     "output_type": "stream",
     "text": [
      "100%|██████████| 100/100 [04:30<00:00,  2.71s/it]"
     ]
    },
    {
     "name": "stdout",
     "output_type": "stream",
     "text": [
      "1150\n",
      "2.6757940888404845\n",
      "2.0159051427305297\n",
      "1441.76\n",
      "663.2869834392953\n"
     ]
    },
    {
     "name": "stderr",
     "output_type": "stream",
     "text": [
      "\n"
     ]
    }
   ],
   "source": [
    "import numpy as np\n",
    "from scipy.optimize import root_scalar\n",
    "import sympy as sp\n",
    "import time\n",
    "from tqdm import tqdm\n",
    "import random as rand\n",
    "\n",
    "# from scipy.optimize import fsolve\n",
    "\n",
    "# # LUCB algorithm\n",
    "\n",
    "# num_sim = 500 # for stopping time testing\n",
    "num_sim = 100 # for runtime testing\n",
    "num_arm = 4\n",
    "\n",
    "total_run_time_array = np.zeros(num_sim)\n",
    "\n",
    "def arm_selector(S_list, alpha):\n",
    "  n = len(S_list)\n",
    "  upp_bounds = np.ones(n)\n",
    "  mus = np.ones(n) * 0.5\n",
    "\n",
    "  for i in range(n):\n",
    "    mus[i] = np.mean(S_list[i])\n",
    "    t = len(S_list[i])\n",
    "    rad = np.sqrt(np.log(405.5 * n * t ** (1.1) / alpha * np.log(405.5 * n * t ** (1.1) / alpha) ) / (2*t) )\n",
    "    upp_bounds[i] = mus[i] + rad\n",
    "\n",
    "  arm_1 = np.argmax(mus)\n",
    "  upp_bounds[arm_1] = -1E10\n",
    "  arm_2 = np.argmax(upp_bounds)\n",
    "\n",
    "  return (arm_1, arm_2)\n",
    "\n",
    "\n",
    "def e_val(S_list, mus, m):\n",
    "  val = 0\n",
    "  for i in range(4):\n",
    "    val +=  0.25 * np.prod(1 + (np.array(S_list[i]) - np.asarray(m[i])) * (np.array(mus[i]) - np.asarray(m[i])) / 0.26)\n",
    "  return val\n",
    "\n",
    "\n",
    "solver= 'brenth'\n",
    "\n",
    "# simulation for best arm identification using our approach\n",
    "best_arm_list = []\n",
    "stop_times = []\n",
    "\n",
    "#mu = np.arange(4) + 1\n",
    "#mu = (0.71 - 0.14*(mu - 1))/(0.29 + 0.14*(mu - 1))\n",
    "\n",
    "mu = [0.29, 0.43, 0.57, 0.71]\n",
    "horizon_len = 1000 # this is really 2000 samples (i.e. 1000 LUCB iterations)\n",
    "# mu = [0.01, 0.011, 0.009, 0.013]\n",
    "\n",
    "for j in tqdm(range(num_sim)):\n",
    "  partitions = np.zeros(4)\n",
    "    \n",
    "  # set seed within simulation\n",
    "  np.random.seed(j)\n",
    "    \n",
    "  S_list = [np.random.binomial(1, p, 1) for p in mu] # the last 1 represents the size\n",
    "  # S_list = [[np.random.beta(1, p, 1)] for p in mu] # the last 1 represents the size\n",
    "  mus = [[0.5]] * num_arm\n",
    "  alpha = 0.05\n",
    "  t = 4\n",
    "\n",
    "  # for i in range(horizon_len): # for runtime testing\n",
    "  while (np.sum(partitions)<3): # for stopping time testing\n",
    "    \n",
    "    #which_arm = arm_selector(S_list, alpha)\n",
    "    #h = which_arm[0]\n",
    "    #l = which_arm[1]\n",
    "    \n",
    "    temp_arr = [[0]*num_arm]*num_arm\n",
    "    \n",
    "    if t == 4:\n",
    "      h = rand.randint(0,3)\n",
    "      l = rand.randint(0,3)\n",
    "\n",
    "    # update mus\n",
    "    mus[h] = np.append(mus[h], [((1/2 + sum(S_list[h])) / (len(S_list[h])  + 1))])\n",
    "    # print((1/2 + sum(S_list[h])) / (len(S_list[h])  + 1))\n",
    "    mus[l] = np.append(mus[l], [((1/2 + sum(S_list[l])) / (len(S_list[l])  + 1))])\n",
    "    # mus[l] = np.asarray(mus[l])\n",
    "\n",
    "    # update samples\n",
    "    # S_list[h] = np.append(S_list[h], np.random.beta(1, mu[h], 1))\n",
    "    S_list[h] = np.append(S_list[h], np.random.binomial(1, mu[h], 1))\n",
    "    # S_list[h] = np.asarray(S_list[h])\n",
    "    # S_list[l] = np.append(S_list[l], np.random.beta(1, mu[l], 1))\n",
    "    S_list[l] = np.append(S_list[l], np.random.binomial(1, mu[l], 1))\n",
    "    # S_list[l] = np.asarray(S_list[l])\n",
    "\n",
    "    ######### start timing\n",
    "    start_time = time.time()\n",
    "\n",
    "\n",
    "    # find the global minima in our set\n",
    "    min_values = np.zeros(num_arm)\n",
    "    coeffs = np.zeros(num_arm)\n",
    "    for i in range(num_arm):\n",
    "      S = np.asarray(S_list[i])\n",
    "      mu_hat = np.asarray(mus[i])\n",
    "      def equation(x):\n",
    "        return sum((2*x-mu_hat-S)/(0.26 + (S-x)*(mu_hat-x)))\n",
    "      root = root_scalar(equation, method=solver, bracket=[0,1], xtol=0.1**10)\n",
    "      # print(root)\n",
    "      min_values[i] = root.root\n",
    "\n",
    "    # determine which arm is currently best\n",
    "    ranks = np.argsort(min_values)[::-1] # Get the indices that would sort the array in descending order\n",
    "\n",
    "    best_arm = ranks[0]\n",
    "    temp_arr[best_arm] = min_values\n",
    "    #print(min_values)\n",
    "\n",
    "    # minimum e-value globally corresponds to partition with best arm.\n",
    "    test_values = np.zeros(num_arm)\n",
    "    test_values[best_arm] = e_val(S_list, mus, min_values)\n",
    "    \n",
    "    \n",
    "\n",
    "    # for the second best arm, we only need to project second best, best\n",
    "    second_best = ranks[1]\n",
    "\n",
    "    # get coefficient function\n",
    "    def coeffs(x, S_list, mus, a):\n",
    "      return np.prod(1/0.26* (0.26 + (np.asarray(S_list[a], dtype=np.float64) - x) * (np.asarray(mus[a], dtype=np.float64)-x ) ))\n",
    "\n",
    "    def equation2(x): # we want to do element wise subtraction from x\n",
    "      return coeffs(x, S_list, mus, best_arm) *  sum((2*x-np.asarray(mus[best_arm])-np.asarray(S_list[best_arm]))/(0.26 + (np.asarray(S_list[best_arm])-x)*(np.asarray(mus[best_arm])-x))) + \\\n",
    "      coeffs(x, S_list, mus, second_best) * sum((2*x-np.asarray(mus[second_best])-np.asarray(S_list[second_best]))/(0.26 + (np.asarray(S_list[second_best])-x)*(np.asarray(mus[second_best])-x)))\n",
    "    val = root_scalar(equation2, method=solver, bracket=[0,1], xtol=0.1**10)\n",
    "    temp = min_values.copy()\n",
    "    temp[best_arm] = np.minimum(val.root, min_values[best_arm])\n",
    "    temp[second_best] = val.root\n",
    "    #print(temp)\n",
    "    test_values[second_best] = e_val(S_list, mus, temp)\n",
    "    #print(temp)\n",
    "    temp_arr[second_best] = temp\n",
    "\n",
    "\n",
    "    # for the third best arm, we need to project third best, second best, best\n",
    "    third_best = ranks[2]\n",
    "    def equation3(x):\n",
    "      return coeffs(x, S_list, mus, best_arm) * sum((2*x-np.asarray(mus[best_arm])-np.asarray(S_list[best_arm]))/(0.26 + (np.asarray(S_list[best_arm])-x)*(np.asarray(mus[best_arm])-x))) + \\\n",
    "       coeffs(x, S_list, mus, second_best) * (x < min_values[second_best]) *  sum((2*x-np.asarray(mus[second_best])-np.asarray(S_list[second_best]))/(0.26 + (np.asarray(S_list[second_best])-x)*(np.asarray(mus[second_best])-x))) + \\\n",
    "        coeffs(x, S_list, mus, third_best) * sum((2*x-np.asarray(mus[third_best])-np.asarray(S_list[third_best]))/(0.26 + (np.asarray(S_list[third_best])-x)*(np.asarray(mus[third_best])-x)))\n",
    "    val = root_scalar(equation3, method=solver, bracket=[0,1], xtol=0.1**5)\n",
    "\n",
    "    temp = min_values.copy()\n",
    "    temp[best_arm] = np.minimum(val.root, min_values[best_arm])\n",
    "    temp[second_best] = np.minimum(val.root, min_values[second_best])\n",
    "    temp[third_best] = val.root\n",
    "    #print(temp)\n",
    "    test_values[third_best] = e_val(S_list, mus, temp)\n",
    "    temp_arr[third_best] = temp\n",
    "\n",
    "    # for the fourth best arm, we project all values\n",
    "    fourth_best = ranks[3]\n",
    "    def equation4(x):\n",
    "      return coeffs(x, S_list, mus, best_arm) * sum((2*x-np.asarray(mus[best_arm])-np.asarray(S_list[best_arm]))/(0.26 + (np.asarray(S_list[best_arm])-x) * (np.asarray(mus[best_arm])-x))) + \\\n",
    "        coeffs(x, S_list, mus, second_best) * (x < min_values[second_best]) *  sum((2*x-np.asarray(mus[second_best])-np.asarray(S_list[second_best]))/(0.26 + (np.asarray(S_list[second_best])-x)*(np.asarray(mus[second_best])-x))) + \\\n",
    "        coeffs(x, S_list, mus, third_best) * (x < min_values[third_best]) * sum((2*x-np.asarray(mus[third_best])-np.asarray(S_list[third_best]))/(0.26 + (np.asarray(S_list[third_best])-x)*(np.asarray(mus[third_best])-x))) + \\\n",
    "        coeffs(x, S_list, mus, fourth_best) * sum((2*x-np.asarray(mus[fourth_best])-np.asarray(S_list[fourth_best]))/(0.26 + (np.asarray(S_list[fourth_best])-x)*(np.asarray(mus[fourth_best])-x)))\n",
    "    val = root_scalar(equation4, method=solver, bracket=[0,1], xtol=0.1**10)\n",
    "\n",
    "    temp = min_values.copy()\n",
    "    temp[best_arm] = np.minimum(val.root, min_values[best_arm])\n",
    "    temp[second_best] = np.minimum(val.root, min_values[second_best])\n",
    "    temp[third_best] = np.minimum(val.root, min_values[third_best])\n",
    "    temp[fourth_best] = val.root\n",
    "    #print(temp)\n",
    "    test_values[fourth_best] = e_val(S_list, mus, temp)\n",
    "    temp_arr[fourth_best] = temp\n",
    "    # print(test_values)\n",
    "    #print(test_values)\n",
    "\n",
    "    #check to see which arms can be eliminated\n",
    "    reject = (test_values >= 1/alpha)\n",
    "    # print(reject)\n",
    "    partitions = np.maximum(reject, partitions)\n",
    "\n",
    "    end_time = time.time()\n",
    "    total_run_time_array[j] += end_time - start_time\n",
    "\n",
    "    ########### end timing\n",
    "\n",
    "    # update the number of pulls\n",
    "    t += 2\n",
    "    \n",
    "    # update the arms to pull\n",
    "    active_partition = [i for i in range(len(partitions)) if partitions[i] == 0]\n",
    "    #print(active_partition)\n",
    "    \n",
    "    # sample which region to target by the minimum value in each region\n",
    "    which_partitions = np.random.choice(active_partition, size = 2, p = test_values[active_partition] / sum(test_values[active_partition])) \n",
    "    \n",
    "    # sample the arm for each region where we expect the largest change \n",
    "    arm_pulls = [4, 4]\n",
    "    \n",
    "    for i in [0,1]:        \n",
    "        if which_partitions[i] == 0:\n",
    "            arm_pulls[i] = np.abs(min_values - temp_arr[0]).argmax()\n",
    "        elif which_partitions[i] == 1:\n",
    "            arm_pulls[i] = np.abs(min_values - temp_arr[1]).argmax()\n",
    "        elif which_partitions[i] == 2:\n",
    "            arm_pulls[i] = np.abs(min_values - temp_arr[2]).argmax()\n",
    "        elif which_partitions[i] == 3:\n",
    "            arm_pulls[i] = np.abs(min_values - temp_arr[3]).argmax()\n",
    "    \n",
    "    h = arm_pulls[0]\n",
    "    l = arm_pulls[1]\n",
    "\n",
    "\n",
    "  best_arm_list.append(np.where(partitions==0)[0][0])\n",
    "  stop_times.append(t)\n",
    "  print(t)\n",
    "\n",
    "\n",
    "print(np.mean(total_run_time_array))\n",
    "print(np.std(total_run_time_array))\n",
    "\n",
    "#   print(stop_times)\n",
    "#   print(best_arm_list)\n",
    "\n",
    "print(np.mean(stop_times))\n",
    "print(np.std(stop_times))\n",
    "\n",
    "\n"
   ]
  },
  {
   "cell_type": "code",
   "execution_count": 65,
   "metadata": {
    "colab": {
     "base_uri": "https://localhost:8080/"
    },
    "id": "i8uqC7rU1YJa",
    "outputId": "deb36687-2c2c-4978-d6bf-3ff46faf9b96"
   },
   "outputs": [
    {
     "name": "stdout",
     "output_type": "stream",
     "text": [
      "1551.14\n",
      "683.4820410222934\n",
      "1.0\n"
     ]
    }
   ],
   "source": [
    "# for stoppping times\n",
    "print(np.mean(stop_times))\n",
    "print(np.std(stop_times))\n",
    "print(np.mean(np.equal(best_arm_list, 3)))\n"
   ]
  },
  {
   "cell_type": "code",
   "execution_count": 2,
   "metadata": {},
   "outputs": [
    {
     "name": "stdout",
     "output_type": "stream",
     "text": [
      "5.212039794921875\n",
      "0.22697138652251098\n"
     ]
    }
   ],
   "source": [
    "# for runtime testing\\\n",
    "print(np.mean(total_run_time_array))\n",
    "print(np.std(total_run_time_array))"
   ]
  },
  {
   "cell_type": "code",
   "execution_count": 74,
   "metadata": {
    "tags": []
   },
   "outputs": [
    {
     "name": "stdout",
     "output_type": "stream",
     "text": [
      "[0.35338556 0.45232601 0.56462346 0.72686456]\n",
      "[0.21033151 0.         0.00090638 0.16314748]\n",
      "[array([0.56371708, 0.45232601, 0.56371708, 0.56371708]), array([0.35338556, 0.62390066, 0.56462346, 0.62390066]), array([0.35338556, 0.45232601, 0.64577673, 0.64577673]), array([0.35338556, 0.45232601, 0.56462346, 0.72686456])]\n"
     ]
    }
   ],
   "source": [
    "test_values\n",
    "np.arange(4)\n",
    "which_partition = [i for i in range(len(partitions)) if partitions[i] == 0]\n",
    "test_values[which_partition]\n",
    "temp = [[0]*num_arm]*num_arm\n",
    "h\n",
    "\n",
    "print(min_values)\n",
    "print(np.abs(min_values - temp_arr[0]))\n",
    "np.abs(min_values - temp_arr[0]).argmax()\n",
    "\n",
    "print(temp_arr)"
   ]
  }
 ],
 "metadata": {
  "colab": {
   "provenance": []
  },
  "kernelspec": {
   "display_name": "Python 3 (ipykernel)",
   "language": "python",
   "name": "python3"
  },
  "language_info": {
   "codemirror_mode": {
    "name": "ipython",
    "version": 3
   },
   "file_extension": ".py",
   "mimetype": "text/x-python",
   "name": "python",
   "nbconvert_exporter": "python",
   "pygments_lexer": "ipython3",
   "version": "3.9.18"
  }
 },
 "nbformat": 4,
 "nbformat_minor": 4
}
