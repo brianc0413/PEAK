{
 "cells": [
  {
   "cell_type": "code",
   "execution_count": 1,
   "metadata": {
    "colab": {
     "base_uri": "https://localhost:8080/"
    },
    "id": "JklJoo08sVCU",
    "outputId": "d28e5339-8f08-4d51-ef8d-21095463b168"
   },
   "outputs": [
    {
     "name": "stderr",
     "output_type": "stream",
     "text": [
      "  0%|                                                   | 0/100 [00:00<?, ?it/s]/var/folders/b0/dg8r3zxn7d3g6xzk1gk57mrc0000gn/T/ipykernel_56608/774313837.py:122: RuntimeWarning: overflow encountered in scalar multiply\n",
      "  return coeffs(x, S_list, mus, best_arm) *  sum((2*x-np.asarray(mus[best_arm])-np.asarray(S_list[best_arm]))/(0.26 + (np.asarray(S_list[best_arm])-x)*(np.asarray(mus[best_arm])-x))) + \\\n",
      "/var/folders/b0/dg8r3zxn7d3g6xzk1gk57mrc0000gn/T/ipykernel_56608/774313837.py:135: RuntimeWarning: overflow encountered in scalar multiply\n",
      "  return coeffs(x, S_list, mus, best_arm) * sum((2*x-np.asarray(mus[best_arm])-np.asarray(S_list[best_arm]))/(0.26 + (np.asarray(S_list[best_arm])-x)*(np.asarray(mus[best_arm])-x))) + \\\n",
      "/var/folders/b0/dg8r3zxn7d3g6xzk1gk57mrc0000gn/T/ipykernel_56608/774313837.py:150: RuntimeWarning: overflow encountered in scalar multiply\n",
      "  return coeffs(x, S_list, mus, best_arm) * sum((2*x-np.asarray(mus[best_arm])-np.asarray(S_list[best_arm]))/(0.26 + (np.asarray(S_list[best_arm])-x) * (np.asarray(mus[best_arm])-x))) + \\\n",
      "/Users/briancho/anaconda3/envs/confseqtesting/lib/python3.9/site-packages/numpy/core/fromnumeric.py:86: RuntimeWarning: overflow encountered in reduce\n",
      "  return ufunc.reduce(obj, axis, dtype, out, **passkwargs)\n",
      "  1%|▍                                          | 1/100 [00:05<08:40,  5.25s/it]"
     ]
    },
    {
     "name": "stdout",
     "output_type": "stream",
     "text": [
      "2004\n"
     ]
    },
    {
     "name": "stderr",
     "output_type": "stream",
     "text": [
      "\r",
      "  2%|▊                                          | 2/100 [00:10<08:34,  5.25s/it]"
     ]
    },
    {
     "name": "stdout",
     "output_type": "stream",
     "text": [
      "2004\n"
     ]
    },
    {
     "name": "stderr",
     "output_type": "stream",
     "text": [
      "\r",
      "  3%|█▎                                         | 3/100 [00:15<08:39,  5.36s/it]"
     ]
    },
    {
     "name": "stdout",
     "output_type": "stream",
     "text": [
      "2004\n"
     ]
    },
    {
     "name": "stderr",
     "output_type": "stream",
     "text": [
      "\r",
      "  4%|█▋                                         | 4/100 [00:21<08:27,  5.29s/it]"
     ]
    },
    {
     "name": "stdout",
     "output_type": "stream",
     "text": [
      "2004\n"
     ]
    },
    {
     "name": "stderr",
     "output_type": "stream",
     "text": [
      "\r",
      "  5%|██▏                                        | 5/100 [00:26<08:17,  5.24s/it]"
     ]
    },
    {
     "name": "stdout",
     "output_type": "stream",
     "text": [
      "2004\n"
     ]
    },
    {
     "name": "stderr",
     "output_type": "stream",
     "text": [
      "\r",
      "  6%|██▌                                        | 6/100 [00:31<08:20,  5.32s/it]"
     ]
    },
    {
     "name": "stdout",
     "output_type": "stream",
     "text": [
      "2004\n"
     ]
    },
    {
     "name": "stderr",
     "output_type": "stream",
     "text": [
      "\r",
      "  7%|███                                        | 7/100 [00:37<08:15,  5.33s/it]"
     ]
    },
    {
     "name": "stdout",
     "output_type": "stream",
     "text": [
      "2004\n"
     ]
    },
    {
     "name": "stderr",
     "output_type": "stream",
     "text": [
      "\r",
      "  8%|███▍                                       | 8/100 [00:42<08:09,  5.32s/it]"
     ]
    },
    {
     "name": "stdout",
     "output_type": "stream",
     "text": [
      "2004\n"
     ]
    },
    {
     "name": "stderr",
     "output_type": "stream",
     "text": [
      "\r",
      "  9%|███▊                                       | 9/100 [00:47<08:07,  5.36s/it]"
     ]
    },
    {
     "name": "stdout",
     "output_type": "stream",
     "text": [
      "2004\n"
     ]
    },
    {
     "name": "stderr",
     "output_type": "stream",
     "text": [
      "\r",
      " 10%|████▏                                     | 10/100 [00:53<08:00,  5.34s/it]"
     ]
    },
    {
     "name": "stdout",
     "output_type": "stream",
     "text": [
      "2004\n"
     ]
    },
    {
     "name": "stderr",
     "output_type": "stream",
     "text": [
      "\r",
      " 11%|████▌                                     | 11/100 [00:58<07:51,  5.30s/it]"
     ]
    },
    {
     "name": "stdout",
     "output_type": "stream",
     "text": [
      "2004\n"
     ]
    },
    {
     "name": "stderr",
     "output_type": "stream",
     "text": [
      "\r",
      " 12%|█████                                     | 12/100 [01:03<07:32,  5.14s/it]"
     ]
    },
    {
     "name": "stdout",
     "output_type": "stream",
     "text": [
      "2004\n"
     ]
    },
    {
     "name": "stderr",
     "output_type": "stream",
     "text": [
      "\r",
      " 13%|█████▍                                    | 13/100 [01:08<07:24,  5.11s/it]"
     ]
    },
    {
     "name": "stdout",
     "output_type": "stream",
     "text": [
      "2004\n"
     ]
    },
    {
     "name": "stderr",
     "output_type": "stream",
     "text": [
      "\r",
      " 14%|█████▉                                    | 14/100 [01:13<07:18,  5.09s/it]"
     ]
    },
    {
     "name": "stdout",
     "output_type": "stream",
     "text": [
      "2004\n"
     ]
    },
    {
     "name": "stderr",
     "output_type": "stream",
     "text": [
      "\r",
      " 15%|██████▎                                   | 15/100 [01:18<07:18,  5.16s/it]"
     ]
    },
    {
     "name": "stdout",
     "output_type": "stream",
     "text": [
      "2004\n"
     ]
    },
    {
     "name": "stderr",
     "output_type": "stream",
     "text": [
      "\r",
      " 16%|██████▋                                   | 16/100 [01:23<07:09,  5.12s/it]"
     ]
    },
    {
     "name": "stdout",
     "output_type": "stream",
     "text": [
      "2004\n"
     ]
    },
    {
     "name": "stderr",
     "output_type": "stream",
     "text": [
      "\r",
      " 17%|███████▏                                  | 17/100 [01:28<07:08,  5.16s/it]"
     ]
    },
    {
     "name": "stdout",
     "output_type": "stream",
     "text": [
      "2004\n"
     ]
    },
    {
     "name": "stderr",
     "output_type": "stream",
     "text": [
      "\r",
      " 18%|███████▌                                  | 18/100 [01:34<07:05,  5.19s/it]"
     ]
    },
    {
     "name": "stdout",
     "output_type": "stream",
     "text": [
      "2004\n"
     ]
    },
    {
     "name": "stderr",
     "output_type": "stream",
     "text": [
      "\r",
      " 19%|███████▉                                  | 19/100 [01:39<07:07,  5.27s/it]"
     ]
    },
    {
     "name": "stdout",
     "output_type": "stream",
     "text": [
      "2004\n"
     ]
    },
    {
     "name": "stderr",
     "output_type": "stream",
     "text": [
      "\r",
      " 20%|████████▍                                 | 20/100 [01:45<07:06,  5.33s/it]"
     ]
    },
    {
     "name": "stdout",
     "output_type": "stream",
     "text": [
      "2004\n"
     ]
    },
    {
     "name": "stderr",
     "output_type": "stream",
     "text": [
      "\r",
      " 21%|████████▊                                 | 21/100 [01:50<06:58,  5.30s/it]"
     ]
    },
    {
     "name": "stdout",
     "output_type": "stream",
     "text": [
      "2004\n"
     ]
    },
    {
     "name": "stderr",
     "output_type": "stream",
     "text": [
      "\r",
      " 22%|█████████▏                                | 22/100 [01:55<06:51,  5.28s/it]"
     ]
    },
    {
     "name": "stdout",
     "output_type": "stream",
     "text": [
      "2004\n"
     ]
    },
    {
     "name": "stderr",
     "output_type": "stream",
     "text": [
      "\r",
      " 23%|█████████▋                                | 23/100 [02:00<06:47,  5.29s/it]"
     ]
    },
    {
     "name": "stdout",
     "output_type": "stream",
     "text": [
      "2004\n"
     ]
    },
    {
     "name": "stderr",
     "output_type": "stream",
     "text": [
      "\r",
      " 24%|██████████                                | 24/100 [02:06<06:43,  5.31s/it]"
     ]
    },
    {
     "name": "stdout",
     "output_type": "stream",
     "text": [
      "2004\n"
     ]
    },
    {
     "name": "stderr",
     "output_type": "stream",
     "text": [
      "\r",
      " 25%|██████████▌                               | 25/100 [02:11<06:28,  5.18s/it]"
     ]
    },
    {
     "name": "stdout",
     "output_type": "stream",
     "text": [
      "2004\n"
     ]
    },
    {
     "name": "stderr",
     "output_type": "stream",
     "text": [
      "\r",
      " 26%|██████████▉                               | 26/100 [02:16<06:31,  5.30s/it]"
     ]
    },
    {
     "name": "stdout",
     "output_type": "stream",
     "text": [
      "2004\n"
     ]
    },
    {
     "name": "stderr",
     "output_type": "stream",
     "text": [
      "\r",
      " 27%|███████████▎                              | 27/100 [02:21<06:22,  5.24s/it]"
     ]
    },
    {
     "name": "stdout",
     "output_type": "stream",
     "text": [
      "2004\n"
     ]
    },
    {
     "name": "stderr",
     "output_type": "stream",
     "text": [
      "\r",
      " 28%|███████████▊                              | 28/100 [02:27<06:20,  5.28s/it]"
     ]
    },
    {
     "name": "stdout",
     "output_type": "stream",
     "text": [
      "2004\n"
     ]
    },
    {
     "name": "stderr",
     "output_type": "stream",
     "text": [
      "\r",
      " 29%|████████████▏                             | 29/100 [02:32<06:18,  5.33s/it]"
     ]
    },
    {
     "name": "stdout",
     "output_type": "stream",
     "text": [
      "2004\n"
     ]
    },
    {
     "name": "stderr",
     "output_type": "stream",
     "text": [
      "\r",
      " 30%|████████████▌                             | 30/100 [02:38<06:17,  5.39s/it]"
     ]
    },
    {
     "name": "stdout",
     "output_type": "stream",
     "text": [
      "2004\n"
     ]
    },
    {
     "name": "stderr",
     "output_type": "stream",
     "text": [
      "\r",
      " 31%|█████████████                             | 31/100 [02:43<06:05,  5.29s/it]"
     ]
    },
    {
     "name": "stdout",
     "output_type": "stream",
     "text": [
      "2004\n"
     ]
    },
    {
     "name": "stderr",
     "output_type": "stream",
     "text": [
      "\r",
      " 32%|█████████████▍                            | 32/100 [02:48<05:57,  5.26s/it]"
     ]
    },
    {
     "name": "stdout",
     "output_type": "stream",
     "text": [
      "2004\n"
     ]
    },
    {
     "name": "stderr",
     "output_type": "stream",
     "text": [
      "\r",
      " 33%|█████████████▊                            | 33/100 [02:53<05:45,  5.16s/it]"
     ]
    },
    {
     "name": "stdout",
     "output_type": "stream",
     "text": [
      "2004\n"
     ]
    },
    {
     "name": "stderr",
     "output_type": "stream",
     "text": [
      "\r",
      " 34%|██████████████▎                           | 34/100 [02:58<05:34,  5.07s/it]"
     ]
    },
    {
     "name": "stdout",
     "output_type": "stream",
     "text": [
      "2004\n"
     ]
    },
    {
     "name": "stderr",
     "output_type": "stream",
     "text": [
      "\r",
      " 35%|██████████████▋                           | 35/100 [03:03<05:37,  5.19s/it]"
     ]
    },
    {
     "name": "stdout",
     "output_type": "stream",
     "text": [
      "2004\n"
     ]
    },
    {
     "name": "stderr",
     "output_type": "stream",
     "text": [
      "\r",
      " 36%|███████████████                           | 36/100 [03:09<05:36,  5.26s/it]"
     ]
    },
    {
     "name": "stdout",
     "output_type": "stream",
     "text": [
      "2004\n"
     ]
    },
    {
     "name": "stderr",
     "output_type": "stream",
     "text": [
      "\r",
      " 37%|███████████████▌                          | 37/100 [03:14<05:36,  5.34s/it]"
     ]
    },
    {
     "name": "stdout",
     "output_type": "stream",
     "text": [
      "2004\n"
     ]
    },
    {
     "name": "stderr",
     "output_type": "stream",
     "text": [
      "\r",
      " 38%|███████████████▉                          | 38/100 [03:19<05:32,  5.36s/it]"
     ]
    },
    {
     "name": "stdout",
     "output_type": "stream",
     "text": [
      "2004\n"
     ]
    },
    {
     "name": "stderr",
     "output_type": "stream",
     "text": [
      "\r",
      " 39%|████████████████▍                         | 39/100 [03:25<05:23,  5.30s/it]"
     ]
    },
    {
     "name": "stdout",
     "output_type": "stream",
     "text": [
      "2004\n"
     ]
    },
    {
     "name": "stderr",
     "output_type": "stream",
     "text": [
      "\r",
      " 40%|████████████████▊                         | 40/100 [03:30<05:17,  5.29s/it]"
     ]
    },
    {
     "name": "stdout",
     "output_type": "stream",
     "text": [
      "2004\n"
     ]
    },
    {
     "name": "stderr",
     "output_type": "stream",
     "text": [
      "\r",
      " 41%|█████████████████▏                        | 41/100 [03:35<05:07,  5.21s/it]"
     ]
    },
    {
     "name": "stdout",
     "output_type": "stream",
     "text": [
      "2004\n"
     ]
    },
    {
     "name": "stderr",
     "output_type": "stream",
     "text": [
      "\r",
      " 42%|█████████████████▋                        | 42/100 [03:41<05:11,  5.36s/it]"
     ]
    },
    {
     "name": "stdout",
     "output_type": "stream",
     "text": [
      "2004\n"
     ]
    },
    {
     "name": "stderr",
     "output_type": "stream",
     "text": [
      "\r",
      " 43%|██████████████████                        | 43/100 [03:46<05:10,  5.44s/it]"
     ]
    },
    {
     "name": "stdout",
     "output_type": "stream",
     "text": [
      "2004\n"
     ]
    },
    {
     "name": "stderr",
     "output_type": "stream",
     "text": [
      "\r",
      " 44%|██████████████████▍                       | 44/100 [03:52<05:07,  5.49s/it]"
     ]
    },
    {
     "name": "stdout",
     "output_type": "stream",
     "text": [
      "2004\n"
     ]
    },
    {
     "name": "stderr",
     "output_type": "stream",
     "text": [
      "\r",
      " 45%|██████████████████▉                       | 45/100 [03:57<04:59,  5.44s/it]"
     ]
    },
    {
     "name": "stdout",
     "output_type": "stream",
     "text": [
      "2004\n"
     ]
    },
    {
     "name": "stderr",
     "output_type": "stream",
     "text": [
      "\r",
      " 46%|███████████████████▎                      | 46/100 [04:03<04:55,  5.47s/it]"
     ]
    },
    {
     "name": "stdout",
     "output_type": "stream",
     "text": [
      "2004\n"
     ]
    },
    {
     "name": "stderr",
     "output_type": "stream",
     "text": [
      "\r",
      " 47%|███████████████████▋                      | 47/100 [04:08<04:43,  5.34s/it]"
     ]
    },
    {
     "name": "stdout",
     "output_type": "stream",
     "text": [
      "2004\n"
     ]
    },
    {
     "name": "stderr",
     "output_type": "stream",
     "text": [
      "\r",
      " 48%|████████████████████▏                     | 48/100 [04:13<04:36,  5.32s/it]"
     ]
    },
    {
     "name": "stdout",
     "output_type": "stream",
     "text": [
      "2004\n"
     ]
    },
    {
     "name": "stderr",
     "output_type": "stream",
     "text": [
      "\r",
      " 49%|████████████████████▌                     | 49/100 [04:18<04:32,  5.34s/it]"
     ]
    },
    {
     "name": "stdout",
     "output_type": "stream",
     "text": [
      "2004\n"
     ]
    },
    {
     "name": "stderr",
     "output_type": "stream",
     "text": [
      "\r",
      " 50%|█████████████████████                     | 50/100 [04:23<04:22,  5.24s/it]"
     ]
    },
    {
     "name": "stdout",
     "output_type": "stream",
     "text": [
      "2004\n"
     ]
    },
    {
     "name": "stderr",
     "output_type": "stream",
     "text": [
      "\r",
      " 51%|█████████████████████▍                    | 51/100 [04:29<04:18,  5.27s/it]"
     ]
    },
    {
     "name": "stdout",
     "output_type": "stream",
     "text": [
      "2004\n"
     ]
    },
    {
     "name": "stderr",
     "output_type": "stream",
     "text": [
      "\r",
      " 52%|█████████████████████▊                    | 52/100 [04:34<04:18,  5.38s/it]"
     ]
    },
    {
     "name": "stdout",
     "output_type": "stream",
     "text": [
      "2004\n"
     ]
    },
    {
     "name": "stderr",
     "output_type": "stream",
     "text": [
      "\r",
      " 53%|██████████████████████▎                   | 53/100 [04:40<04:09,  5.30s/it]"
     ]
    },
    {
     "name": "stdout",
     "output_type": "stream",
     "text": [
      "2004\n"
     ]
    },
    {
     "name": "stderr",
     "output_type": "stream",
     "text": [
      "\r",
      " 54%|██████████████████████▋                   | 54/100 [04:45<04:06,  5.37s/it]"
     ]
    },
    {
     "name": "stdout",
     "output_type": "stream",
     "text": [
      "2004\n"
     ]
    },
    {
     "name": "stderr",
     "output_type": "stream",
     "text": [
      "\r",
      " 55%|███████████████████████                   | 55/100 [04:51<04:04,  5.43s/it]"
     ]
    },
    {
     "name": "stdout",
     "output_type": "stream",
     "text": [
      "2004\n"
     ]
    },
    {
     "name": "stderr",
     "output_type": "stream",
     "text": [
      "\r",
      " 56%|███████████████████████▌                  | 56/100 [04:56<03:59,  5.45s/it]"
     ]
    },
    {
     "name": "stdout",
     "output_type": "stream",
     "text": [
      "2004\n"
     ]
    },
    {
     "name": "stderr",
     "output_type": "stream",
     "text": [
      "\r",
      " 57%|███████████████████████▉                  | 57/100 [05:02<03:53,  5.44s/it]"
     ]
    },
    {
     "name": "stdout",
     "output_type": "stream",
     "text": [
      "2004\n"
     ]
    },
    {
     "name": "stderr",
     "output_type": "stream",
     "text": [
      "\r",
      " 58%|████████████████████████▎                 | 58/100 [05:07<03:48,  5.45s/it]"
     ]
    },
    {
     "name": "stdout",
     "output_type": "stream",
     "text": [
      "2004\n"
     ]
    },
    {
     "name": "stderr",
     "output_type": "stream",
     "text": [
      "\r",
      " 59%|████████████████████████▊                 | 59/100 [05:13<03:44,  5.47s/it]"
     ]
    },
    {
     "name": "stdout",
     "output_type": "stream",
     "text": [
      "2004\n"
     ]
    },
    {
     "name": "stderr",
     "output_type": "stream",
     "text": [
      "\r",
      " 60%|█████████████████████████▏                | 60/100 [05:18<03:34,  5.36s/it]"
     ]
    },
    {
     "name": "stdout",
     "output_type": "stream",
     "text": [
      "2004\n"
     ]
    },
    {
     "name": "stderr",
     "output_type": "stream",
     "text": [
      "\r",
      " 61%|█████████████████████████▌                | 61/100 [05:23<03:32,  5.44s/it]"
     ]
    },
    {
     "name": "stdout",
     "output_type": "stream",
     "text": [
      "2004\n"
     ]
    },
    {
     "name": "stderr",
     "output_type": "stream",
     "text": [
      "\r",
      " 62%|██████████████████████████                | 62/100 [05:28<03:24,  5.38s/it]"
     ]
    },
    {
     "name": "stdout",
     "output_type": "stream",
     "text": [
      "2004\n"
     ]
    },
    {
     "name": "stderr",
     "output_type": "stream",
     "text": [
      "\r",
      " 63%|██████████████████████████▍               | 63/100 [05:34<03:18,  5.35s/it]"
     ]
    },
    {
     "name": "stdout",
     "output_type": "stream",
     "text": [
      "2004\n"
     ]
    },
    {
     "name": "stderr",
     "output_type": "stream",
     "text": [
      "\r",
      " 64%|██████████████████████████▉               | 64/100 [05:39<03:06,  5.17s/it]"
     ]
    },
    {
     "name": "stdout",
     "output_type": "stream",
     "text": [
      "2004\n"
     ]
    },
    {
     "name": "stderr",
     "output_type": "stream",
     "text": [
      "\r",
      " 65%|███████████████████████████▎              | 65/100 [05:44<03:03,  5.25s/it]"
     ]
    },
    {
     "name": "stdout",
     "output_type": "stream",
     "text": [
      "2004\n"
     ]
    },
    {
     "name": "stderr",
     "output_type": "stream",
     "text": [
      "\r",
      " 66%|███████████████████████████▋              | 66/100 [05:50<03:01,  5.34s/it]"
     ]
    },
    {
     "name": "stdout",
     "output_type": "stream",
     "text": [
      "2004\n"
     ]
    },
    {
     "name": "stderr",
     "output_type": "stream",
     "text": [
      "\r",
      " 67%|████████████████████████████▏             | 67/100 [05:55<02:57,  5.39s/it]"
     ]
    },
    {
     "name": "stdout",
     "output_type": "stream",
     "text": [
      "2004\n"
     ]
    },
    {
     "name": "stderr",
     "output_type": "stream",
     "text": [
      "\r",
      " 68%|████████████████████████████▌             | 68/100 [06:00<02:51,  5.37s/it]"
     ]
    },
    {
     "name": "stdout",
     "output_type": "stream",
     "text": [
      "2004\n"
     ]
    },
    {
     "name": "stderr",
     "output_type": "stream",
     "text": [
      "\r",
      " 69%|████████████████████████████▉             | 69/100 [06:05<02:44,  5.30s/it]"
     ]
    },
    {
     "name": "stdout",
     "output_type": "stream",
     "text": [
      "2004\n"
     ]
    },
    {
     "name": "stderr",
     "output_type": "stream",
     "text": [
      "\r",
      " 70%|█████████████████████████████▍            | 70/100 [06:11<02:41,  5.39s/it]"
     ]
    },
    {
     "name": "stdout",
     "output_type": "stream",
     "text": [
      "2004\n"
     ]
    },
    {
     "name": "stderr",
     "output_type": "stream",
     "text": [
      "\r",
      " 71%|█████████████████████████████▊            | 71/100 [06:17<02:37,  5.41s/it]"
     ]
    },
    {
     "name": "stdout",
     "output_type": "stream",
     "text": [
      "2004\n"
     ]
    },
    {
     "name": "stderr",
     "output_type": "stream",
     "text": [
      "\r",
      " 72%|██████████████████████████████▏           | 72/100 [06:22<02:29,  5.34s/it]"
     ]
    },
    {
     "name": "stdout",
     "output_type": "stream",
     "text": [
      "2004\n"
     ]
    },
    {
     "name": "stderr",
     "output_type": "stream",
     "text": [
      "\r",
      " 73%|██████████████████████████████▋           | 73/100 [06:27<02:21,  5.22s/it]"
     ]
    },
    {
     "name": "stdout",
     "output_type": "stream",
     "text": [
      "2004\n"
     ]
    },
    {
     "name": "stderr",
     "output_type": "stream",
     "text": [
      "\r",
      " 74%|███████████████████████████████           | 74/100 [06:32<02:19,  5.35s/it]"
     ]
    },
    {
     "name": "stdout",
     "output_type": "stream",
     "text": [
      "2004\n"
     ]
    },
    {
     "name": "stderr",
     "output_type": "stream",
     "text": [
      "\r",
      " 75%|███████████████████████████████▌          | 75/100 [06:37<02:11,  5.26s/it]"
     ]
    },
    {
     "name": "stdout",
     "output_type": "stream",
     "text": [
      "2004\n"
     ]
    },
    {
     "name": "stderr",
     "output_type": "stream",
     "text": [
      "\r",
      " 76%|███████████████████████████████▉          | 76/100 [06:43<02:07,  5.32s/it]"
     ]
    },
    {
     "name": "stdout",
     "output_type": "stream",
     "text": [
      "2004\n"
     ]
    },
    {
     "name": "stderr",
     "output_type": "stream",
     "text": [
      "\r",
      " 77%|████████████████████████████████▎         | 77/100 [06:48<02:04,  5.42s/it]"
     ]
    },
    {
     "name": "stdout",
     "output_type": "stream",
     "text": [
      "2004\n"
     ]
    },
    {
     "name": "stderr",
     "output_type": "stream",
     "text": [
      "\r",
      " 78%|████████████████████████████████▊         | 78/100 [06:54<01:57,  5.35s/it]"
     ]
    },
    {
     "name": "stdout",
     "output_type": "stream",
     "text": [
      "2004\n"
     ]
    },
    {
     "name": "stderr",
     "output_type": "stream",
     "text": [
      "\r",
      " 79%|█████████████████████████████████▏        | 79/100 [06:59<01:52,  5.36s/it]"
     ]
    },
    {
     "name": "stdout",
     "output_type": "stream",
     "text": [
      "2004\n"
     ]
    },
    {
     "name": "stderr",
     "output_type": "stream",
     "text": [
      "\r",
      " 80%|█████████████████████████████████▌        | 80/100 [07:05<01:47,  5.39s/it]"
     ]
    },
    {
     "name": "stdout",
     "output_type": "stream",
     "text": [
      "2004\n"
     ]
    },
    {
     "name": "stderr",
     "output_type": "stream",
     "text": [
      "\r",
      " 81%|██████████████████████████████████        | 81/100 [07:10<01:40,  5.31s/it]"
     ]
    },
    {
     "name": "stdout",
     "output_type": "stream",
     "text": [
      "2004\n"
     ]
    },
    {
     "name": "stderr",
     "output_type": "stream",
     "text": [
      "\r",
      " 82%|██████████████████████████████████▍       | 82/100 [07:15<01:35,  5.33s/it]"
     ]
    },
    {
     "name": "stdout",
     "output_type": "stream",
     "text": [
      "2004\n"
     ]
    },
    {
     "name": "stderr",
     "output_type": "stream",
     "text": [
      "\r",
      " 83%|██████████████████████████████████▊       | 83/100 [07:20<01:30,  5.34s/it]"
     ]
    },
    {
     "name": "stdout",
     "output_type": "stream",
     "text": [
      "2004\n"
     ]
    },
    {
     "name": "stderr",
     "output_type": "stream",
     "text": [
      "\r",
      " 84%|███████████████████████████████████▎      | 84/100 [07:26<01:25,  5.33s/it]"
     ]
    },
    {
     "name": "stdout",
     "output_type": "stream",
     "text": [
      "2004\n"
     ]
    },
    {
     "name": "stderr",
     "output_type": "stream",
     "text": [
      "\r",
      " 85%|███████████████████████████████████▋      | 85/100 [07:31<01:20,  5.37s/it]"
     ]
    },
    {
     "name": "stdout",
     "output_type": "stream",
     "text": [
      "2004\n"
     ]
    },
    {
     "name": "stderr",
     "output_type": "stream",
     "text": [
      "\r",
      " 86%|████████████████████████████████████      | 86/100 [07:36<01:14,  5.30s/it]"
     ]
    },
    {
     "name": "stdout",
     "output_type": "stream",
     "text": [
      "2004\n"
     ]
    },
    {
     "name": "stderr",
     "output_type": "stream",
     "text": [
      "\r",
      " 87%|████████████████████████████████████▌     | 87/100 [07:41<01:08,  5.28s/it]"
     ]
    },
    {
     "name": "stdout",
     "output_type": "stream",
     "text": [
      "2004\n"
     ]
    },
    {
     "name": "stderr",
     "output_type": "stream",
     "text": [
      "\r",
      " 88%|████████████████████████████████████▉     | 88/100 [07:47<01:02,  5.20s/it]"
     ]
    },
    {
     "name": "stdout",
     "output_type": "stream",
     "text": [
      "2004\n"
     ]
    },
    {
     "name": "stderr",
     "output_type": "stream",
     "text": [
      "\r",
      " 89%|█████████████████████████████████████▍    | 89/100 [07:51<00:56,  5.12s/it]"
     ]
    },
    {
     "name": "stdout",
     "output_type": "stream",
     "text": [
      "2004\n"
     ]
    },
    {
     "name": "stderr",
     "output_type": "stream",
     "text": [
      "\r",
      " 90%|█████████████████████████████████████▊    | 90/100 [07:57<00:52,  5.23s/it]"
     ]
    },
    {
     "name": "stdout",
     "output_type": "stream",
     "text": [
      "2004\n"
     ]
    },
    {
     "name": "stderr",
     "output_type": "stream",
     "text": [
      "\r",
      " 91%|██████████████████████████████████████▏   | 91/100 [08:02<00:47,  5.29s/it]"
     ]
    },
    {
     "name": "stdout",
     "output_type": "stream",
     "text": [
      "2004\n"
     ]
    },
    {
     "name": "stderr",
     "output_type": "stream",
     "text": [
      "\r",
      " 92%|██████████████████████████████████████▋   | 92/100 [08:08<00:42,  5.33s/it]"
     ]
    },
    {
     "name": "stdout",
     "output_type": "stream",
     "text": [
      "2004\n"
     ]
    },
    {
     "name": "stderr",
     "output_type": "stream",
     "text": [
      "\r",
      " 93%|███████████████████████████████████████   | 93/100 [08:13<00:36,  5.27s/it]"
     ]
    },
    {
     "name": "stdout",
     "output_type": "stream",
     "text": [
      "2004\n"
     ]
    },
    {
     "name": "stderr",
     "output_type": "stream",
     "text": [
      "\r",
      " 94%|███████████████████████████████████████▍  | 94/100 [08:18<00:31,  5.32s/it]"
     ]
    },
    {
     "name": "stdout",
     "output_type": "stream",
     "text": [
      "2004\n"
     ]
    },
    {
     "name": "stderr",
     "output_type": "stream",
     "text": [
      "\r",
      " 95%|███████████████████████████████████████▉  | 95/100 [08:24<00:26,  5.30s/it]"
     ]
    },
    {
     "name": "stdout",
     "output_type": "stream",
     "text": [
      "2004\n"
     ]
    },
    {
     "name": "stderr",
     "output_type": "stream",
     "text": [
      "\r",
      " 96%|████████████████████████████████████████▎ | 96/100 [08:28<00:20,  5.17s/it]"
     ]
    },
    {
     "name": "stdout",
     "output_type": "stream",
     "text": [
      "2004\n"
     ]
    },
    {
     "name": "stderr",
     "output_type": "stream",
     "text": [
      "\r",
      " 97%|████████████████████████████████████████▋ | 97/100 [08:33<00:15,  5.11s/it]"
     ]
    },
    {
     "name": "stdout",
     "output_type": "stream",
     "text": [
      "2004\n"
     ]
    },
    {
     "name": "stderr",
     "output_type": "stream",
     "text": [
      "\r",
      " 98%|█████████████████████████████████████████▏| 98/100 [08:38<00:10,  5.05s/it]"
     ]
    },
    {
     "name": "stdout",
     "output_type": "stream",
     "text": [
      "2004\n"
     ]
    },
    {
     "name": "stderr",
     "output_type": "stream",
     "text": [
      "\r",
      " 99%|█████████████████████████████████████████▌| 99/100 [08:43<00:04,  4.96s/it]"
     ]
    },
    {
     "name": "stdout",
     "output_type": "stream",
     "text": [
      "2004\n"
     ]
    },
    {
     "name": "stderr",
     "output_type": "stream",
     "text": [
      "100%|█████████████████████████████████████████| 100/100 [08:48<00:00,  5.28s/it]"
     ]
    },
    {
     "name": "stdout",
     "output_type": "stream",
     "text": [
      "2004\n",
      "5.212039794921875\n",
      "0.22697138652251098\n",
      "2004.0\n",
      "0.0\n"
     ]
    },
    {
     "name": "stderr",
     "output_type": "stream",
     "text": [
      "\n"
     ]
    }
   ],
   "source": [
    "import numpy as np\n",
    "from scipy.optimize import root_scalar\n",
    "import sympy as sp\n",
    "import time\n",
    "from tqdm import tqdm\n",
    "\n",
    "# from scipy.optimize import fsolve\n",
    "\n",
    "# # LUCB algorithm\n",
    "\n",
    "# num_sim = 500 # for stopping time testing\n",
    "num_sim = 100 # for runtime testing\n",
    "num_arm = 4\n",
    "\n",
    "total_run_time_array = np.zeros(num_sim)\n",
    "\n",
    "def arm_selector(S_list, alpha):\n",
    "  n = len(S_list)\n",
    "  upp_bounds = np.ones(n)\n",
    "  mus = np.ones(n) * 0.5\n",
    "\n",
    "  for i in range(n):\n",
    "    mus[i] = np.mean(S_list[i])\n",
    "    t = len(S_list[i])\n",
    "    rad = np.sqrt(np.log(405.5 * n * t ** (1.1) / alpha * np.log(405.5 * n * t ** (1.1) / alpha) ) / (2*t) )\n",
    "    upp_bounds[i] = mus[i] + rad\n",
    "\n",
    "  arm_1 = np.argmax(mus)\n",
    "  upp_bounds[arm_1] = -1E10\n",
    "  arm_2 = np.argmax(upp_bounds)\n",
    "\n",
    "  return (arm_1, arm_2)\n",
    "\n",
    "\n",
    "def e_val(S_list, mus, m):\n",
    "  val = 0\n",
    "  for i in range(4):\n",
    "    val +=  0.25 * np.prod(1 + (np.array(S_list[i]) - np.asarray(m[i])) * (np.array(mus[i]) - np.asarray(m[i])) / 0.26)\n",
    "  return val\n",
    "\n",
    "\n",
    "solver= 'brenth'\n",
    "\n",
    "# simulation for best arm identification using our approach\n",
    "best_arm_list = []\n",
    "stop_times = []\n",
    "\n",
    "#mu = np.arange(4) + 1\n",
    "#mu = (0.71 - 0.14*(mu - 1))/(0.29 + 0.14*(mu - 1))\n",
    "\n",
    "mu = [0.29, 0.43, 0.57, 0.71]\n",
    "horizon_len = 1000 # this is really 2000 samples (i.e. 1000 LUCB iterations)\n",
    "# mu = [0.01, 0.011, 0.009, 0.013]\n",
    "\n",
    "for j in tqdm(range(num_sim)):\n",
    "  partitions = np.zeros(4)\n",
    "    \n",
    "  # set seed within simulation\n",
    "  np.random.seed(j)\n",
    "    \n",
    "  S_list = [np.random.binomial(1, p, 1) for p in mu] # the last 1 represents the size\n",
    "  # S_list = [[np.random.beta(1, p, 1)] for p in mu] # the last 1 represents the size\n",
    "  mus = [[0.5]] * num_arm\n",
    "  alpha = 0.05\n",
    "  t = 4\n",
    "\n",
    "  for i in range(horizon_len): # for runtime testing\n",
    "  #while (np.sum(partitions)<3): # for stopping time testing\n",
    "    which_arm = arm_selector(S_list, alpha)\n",
    "    h = which_arm[0]\n",
    "    l = which_arm[1]\n",
    "\n",
    "    # update mus\n",
    "    mus[h] = np.append(mus[h], [((1/2 + sum(S_list[h])) / (len(S_list[h])  + 1))])\n",
    "    # print((1/2 + sum(S_list[h])) / (len(S_list[h])  + 1))\n",
    "    mus[l] = np.append(mus[l], [((1/2 + sum(S_list[l])) / (len(S_list[l])  + 1))])\n",
    "    # mus[l] = np.asarray(mus[l])\n",
    "\n",
    "    # update samples\n",
    "    # S_list[h] = np.append(S_list[h], np.random.beta(1, mu[h], 1))\n",
    "    S_list[h] = np.append(S_list[h], np.random.binomial(1, mu[h], 1))\n",
    "    # S_list[h] = np.asarray(S_list[h])\n",
    "    # S_list[l] = np.append(S_list[l], np.random.beta(1, mu[l], 1))\n",
    "    S_list[l] = np.append(S_list[l], np.random.binomial(1, mu[l], 1))\n",
    "    # S_list[l] = np.asarray(S_list[l])\n",
    "\n",
    "    ######### start timing\n",
    "    start_time = time.time()\n",
    "\n",
    "\n",
    "    # find the global minima in our set\n",
    "    min_values = np.zeros(num_arm)\n",
    "    coeffs = np.zeros(num_arm)\n",
    "    for i in range(num_arm):\n",
    "      S = np.asarray(S_list[i])\n",
    "      mu_hat = np.asarray(mus[i])\n",
    "      def equation(x):\n",
    "        return sum((2*x-mu_hat-S)/(0.26 + (S-x)*(mu_hat-x)))\n",
    "      root = root_scalar(equation, method=solver, bracket=[0,1], xtol=0.1**10)\n",
    "      # print(root)\n",
    "      min_values[i] = root.root\n",
    "\n",
    "    # determine which arm is currently best\n",
    "    ranks = np.argsort(min_values)[::-1] # Get the indices that would sort the array in descending order\n",
    "\n",
    "    best_arm = ranks[0]\n",
    "\n",
    "    #print(min_values)\n",
    "\n",
    "    # minimum e-value globally corresponds to partition with best arm.\n",
    "    test_values = np.zeros(num_arm)\n",
    "    test_values[best_arm] = e_val(S_list, mus, min_values)\n",
    "\n",
    "    # for the second best arm, we only need to project second best, best\n",
    "    second_best = ranks[1]\n",
    "\n",
    "    # get coefficient function\n",
    "    def coeffs(x, S_list, mus, a):\n",
    "      return np.prod(1/0.26* (0.26 + (np.asarray(S_list[a], dtype=np.float64) - x) * (np.asarray(mus[a], dtype=np.float64)-x ) ))\n",
    "\n",
    "    def equation2(x): # we want to do element wise subtraction from x\n",
    "      return coeffs(x, S_list, mus, best_arm) *  sum((2*x-np.asarray(mus[best_arm])-np.asarray(S_list[best_arm]))/(0.26 + (np.asarray(S_list[best_arm])-x)*(np.asarray(mus[best_arm])-x))) + \\\n",
    "      coeffs(x, S_list, mus, second_best) * sum((2*x-np.asarray(mus[second_best])-np.asarray(S_list[second_best]))/(0.26 + (np.asarray(S_list[second_best])-x)*(np.asarray(mus[second_best])-x)))\n",
    "    val = root_scalar(equation2, method=solver, bracket=[0,1], xtol=0.1**10)\n",
    "    temp = min_values.copy()\n",
    "    temp[best_arm] = np.minimum(val.root, min_values[best_arm])\n",
    "    temp[second_best] = val.root\n",
    "    #print(temp)\n",
    "    test_values[second_best] = e_val(S_list, mus, temp)\n",
    "\n",
    "\n",
    "    # for the third best arm, we need to project third best, second best, best\n",
    "    third_best = ranks[2]\n",
    "    def equation3(x):\n",
    "      return coeffs(x, S_list, mus, best_arm) * sum((2*x-np.asarray(mus[best_arm])-np.asarray(S_list[best_arm]))/(0.26 + (np.asarray(S_list[best_arm])-x)*(np.asarray(mus[best_arm])-x))) + \\\n",
    "       coeffs(x, S_list, mus, second_best) * (x < min_values[second_best]) *  sum((2*x-np.asarray(mus[second_best])-np.asarray(S_list[second_best]))/(0.26 + (np.asarray(S_list[second_best])-x)*(np.asarray(mus[second_best])-x))) + \\\n",
    "        coeffs(x, S_list, mus, third_best) * sum((2*x-np.asarray(mus[third_best])-np.asarray(S_list[third_best]))/(0.26 + (np.asarray(S_list[third_best])-x)*(np.asarray(mus[third_best])-x)))\n",
    "    val = root_scalar(equation3, method=solver, bracket=[0,1], xtol=0.1**5)\n",
    "\n",
    "    temp = min_values.copy()\n",
    "    temp[best_arm] = np.minimum(val.root, min_values[best_arm])\n",
    "    temp[second_best] = np.minimum(val.root, min_values[second_best])\n",
    "    temp[third_best] = val.root\n",
    "    #print(temp)\n",
    "    test_values[third_best] = e_val(S_list, mus, temp)\n",
    "\n",
    "    # for the fourth best arm, we project all values\n",
    "    fourth_best = ranks[3]\n",
    "    def equation4(x):\n",
    "      return coeffs(x, S_list, mus, best_arm) * sum((2*x-np.asarray(mus[best_arm])-np.asarray(S_list[best_arm]))/(0.26 + (np.asarray(S_list[best_arm])-x) * (np.asarray(mus[best_arm])-x))) + \\\n",
    "        coeffs(x, S_list, mus, second_best) * (x < min_values[second_best]) *  sum((2*x-np.asarray(mus[second_best])-np.asarray(S_list[second_best]))/(0.26 + (np.asarray(S_list[second_best])-x)*(np.asarray(mus[second_best])-x))) + \\\n",
    "        coeffs(x, S_list, mus, third_best) * (x < min_values[third_best]) * sum((2*x-np.asarray(mus[third_best])-np.asarray(S_list[third_best]))/(0.26 + (np.asarray(S_list[third_best])-x)*(np.asarray(mus[third_best])-x))) + \\\n",
    "        coeffs(x, S_list, mus, fourth_best) * sum((2*x-np.asarray(mus[fourth_best])-np.asarray(S_list[fourth_best]))/(0.26 + (np.asarray(S_list[fourth_best])-x)*(np.asarray(mus[fourth_best])-x)))\n",
    "    val = root_scalar(equation4, method=solver, bracket=[0,1], xtol=0.1**10)\n",
    "\n",
    "    temp = min_values.copy()\n",
    "    temp[best_arm] = np.minimum(val.root, min_values[best_arm])\n",
    "    temp[second_best] = np.minimum(val.root, min_values[second_best])\n",
    "    temp[third_best] = np.minimum(val.root, min_values[third_best])\n",
    "    temp[fourth_best] = val.root\n",
    "    #print(temp)\n",
    "    test_values[fourth_best] = e_val(S_list, mus, temp)\n",
    "    # print(test_values)\n",
    "    #print(test_values)\n",
    "\n",
    "    #check to see which arms can be eliminated\n",
    "    reject = (test_values >= 1/alpha)\n",
    "    # print(reject)\n",
    "    partitions = np.maximum(reject, partitions)\n",
    "\n",
    "    end_time = time.time()\n",
    "    total_run_time_array[j] += end_time - start_time\n",
    "\n",
    "    ########### end timing\n",
    "\n",
    "    # update the number of pulls\n",
    "    t += 2\n",
    "\n",
    "\n",
    "  best_arm_list.append(np.where(partitions==0)[0][0])\n",
    "  stop_times.append(t)\n",
    "  print(t)\n",
    "\n",
    "\n",
    "print(np.mean(total_run_time_array))\n",
    "print(np.std(total_run_time_array))\n",
    "\n",
    "#   print(stop_times)\n",
    "#   print(best_arm_list)\n",
    "\n",
    "print(np.mean(stop_times))\n",
    "print(np.std(stop_times))\n",
    "\n",
    "\n"
   ]
  },
  {
   "cell_type": "code",
   "execution_count": 17,
   "metadata": {
    "colab": {
     "base_uri": "https://localhost:8080/"
    },
    "id": "i8uqC7rU1YJa",
    "outputId": "deb36687-2c2c-4978-d6bf-3ff46faf9b96"
   },
   "outputs": [
    {
     "name": "stdout",
     "output_type": "stream",
     "text": [
      "692.04\n",
      "238.42650523798733\n",
      "1.0\n"
     ]
    }
   ],
   "source": [
    "# for stoppping times\n",
    "print(np.mean(stop_times))\n",
    "print(np.std(stop_times))\n",
    "print(np.mean(np.equal(best_arm_list, 3)))\n"
   ]
  },
  {
   "cell_type": "code",
   "execution_count": 2,
   "metadata": {},
   "outputs": [
    {
     "name": "stdout",
     "output_type": "stream",
     "text": [
      "5.212039794921875\n",
      "0.22697138652251098\n"
     ]
    }
   ],
   "source": [
    "# for runtime testing\\\n",
    "print(np.mean(total_run_time_array))\n",
    "print(np.std(total_run_time_array))"
   ]
  }
 ],
 "metadata": {
  "colab": {
   "provenance": []
  },
  "kernelspec": {
   "display_name": "Python 3 (ipykernel)",
   "language": "python",
   "name": "python3"
  },
  "language_info": {
   "codemirror_mode": {
    "name": "ipython",
    "version": 3
   },
   "file_extension": ".py",
   "mimetype": "text/x-python",
   "name": "python",
   "nbconvert_exporter": "python",
   "pygments_lexer": "ipython3",
   "version": "3.9.18"
  }
 },
 "nbformat": 4,
 "nbformat_minor": 4
}
